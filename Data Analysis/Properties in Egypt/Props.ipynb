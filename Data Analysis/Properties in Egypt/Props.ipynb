{
 "cells": [
  {
   "cell_type": "code",
   "execution_count": 1,
   "metadata": {},
   "outputs": [],
   "source": [
    "import seaborn as sns\n",
    "import pandas as pd\n",
    "import matplotlib.pyplot as plt\n",
    "import numpy as np\n"
   ]
  },
  {
   "cell_type": "code",
   "execution_count": 2,
   "metadata": {},
   "outputs": [
    {
     "data": {
      "text/html": [
       "<div>\n",
       "<style scoped>\n",
       "    .dataframe tbody tr th:only-of-type {\n",
       "        vertical-align: middle;\n",
       "    }\n",
       "\n",
       "    .dataframe tbody tr th {\n",
       "        vertical-align: top;\n",
       "    }\n",
       "\n",
       "    .dataframe thead th {\n",
       "        text-align: right;\n",
       "    }\n",
       "</style>\n",
       "<table border=\"1\" class=\"dataframe\">\n",
       "  <thead>\n",
       "    <tr style=\"text-align: right;\">\n",
       "      <th></th>\n",
       "      <th>type</th>\n",
       "      <th>title</th>\n",
       "      <th>location</th>\n",
       "      <th>bedroom</th>\n",
       "      <th>bathroom</th>\n",
       "      <th>size_sqm</th>\n",
       "      <th>price</th>\n",
       "    </tr>\n",
       "  </thead>\n",
       "  <tbody>\n",
       "    <tr>\n",
       "      <th>0</th>\n",
       "      <td>Duplex</td>\n",
       "      <td>Prime Location Duplex Fully Finished With A\\C</td>\n",
       "      <td>Park View, North Investors Area, New Cairo Cit...</td>\n",
       "      <td>4</td>\n",
       "      <td>4</td>\n",
       "      <td>345</td>\n",
       "      <td>6,850,000</td>\n",
       "    </tr>\n",
       "    <tr>\n",
       "      <th>1</th>\n",
       "      <td>Villa</td>\n",
       "      <td>Town house resale at Mivida Emaar with best price</td>\n",
       "      <td>Mivida, 5th Settlement Compounds, The 5th Sett...</td>\n",
       "      <td>3</td>\n",
       "      <td>3</td>\n",
       "      <td>285</td>\n",
       "      <td>10,000,000</td>\n",
       "    </tr>\n",
       "    <tr>\n",
       "      <th>2</th>\n",
       "      <td>Apartment</td>\n",
       "      <td>Lake View Residence - Apartment | Prime Location</td>\n",
       "      <td>Lake View Residence, 5th Settlement Compounds,...</td>\n",
       "      <td>3</td>\n",
       "      <td>3</td>\n",
       "      <td>210</td>\n",
       "      <td>5,700,000</td>\n",
       "    </tr>\n",
       "    <tr>\n",
       "      <th>3</th>\n",
       "      <td>Townhouse</td>\n",
       "      <td>Best Penthouse for sale in villette ( sky conds )</td>\n",
       "      <td>La Vista City, New Capital Compounds, New Capi...</td>\n",
       "      <td>4</td>\n",
       "      <td>4</td>\n",
       "      <td>230</td>\n",
       "      <td>7,510,000</td>\n",
       "    </tr>\n",
       "    <tr>\n",
       "      <th>4</th>\n",
       "      <td>Penthouse</td>\n",
       "      <td>2nd Floor | Fully Finished | Lowest Price |Par...</td>\n",
       "      <td>Villette, 5th Settlement Compounds, The 5th Se...</td>\n",
       "      <td>5</td>\n",
       "      <td>6</td>\n",
       "      <td>284</td>\n",
       "      <td>8,511,300</td>\n",
       "    </tr>\n",
       "    <tr>\n",
       "      <th>...</th>\n",
       "      <td>...</td>\n",
       "      <td>...</td>\n",
       "      <td>...</td>\n",
       "      <td>...</td>\n",
       "      <td>...</td>\n",
       "      <td>...</td>\n",
       "      <td>...</td>\n",
       "    </tr>\n",
       "    <tr>\n",
       "      <th>11413</th>\n",
       "      <td>Villa</td>\n",
       "      <td>فيلا تشطيب الترا سوبر لوكس بالتجمع علي شارع رئ...</td>\n",
       "      <td>Street70, District 2, The 5th Settlement, New ...</td>\n",
       "      <td>8</td>\n",
       "      <td>7</td>\n",
       "      <td>1,500</td>\n",
       "      <td>30,000,000</td>\n",
       "    </tr>\n",
       "    <tr>\n",
       "      <th>11414</th>\n",
       "      <td>Townhouse</td>\n",
       "      <td>town house for sale 220m Mountain View III</td>\n",
       "      <td>Mountain View 3, 5th Settlement Compounds, The...</td>\n",
       "      <td>4</td>\n",
       "      <td>4</td>\n",
       "      <td>220</td>\n",
       "      <td>10,276,891</td>\n",
       "    </tr>\n",
       "    <tr>\n",
       "      <th>11415</th>\n",
       "      <td>Apartment</td>\n",
       "      <td>3 Bedrooms|Del 2026|5% Down|9 years install</td>\n",
       "      <td>IL Bosco City, Mostakbal City Compounds, Mosta...</td>\n",
       "      <td>3</td>\n",
       "      <td>3</td>\n",
       "      <td>177</td>\n",
       "      <td>2,811,346</td>\n",
       "    </tr>\n",
       "    <tr>\n",
       "      <th>11416</th>\n",
       "      <td>Penthouse</td>\n",
       "      <td>Very prime location penthouse 275m for sale</td>\n",
       "      <td>Stone Residence, 5th Settlement Compounds, The...</td>\n",
       "      <td>5</td>\n",
       "      <td>4</td>\n",
       "      <td>275</td>\n",
       "      <td>3,000,000</td>\n",
       "    </tr>\n",
       "    <tr>\n",
       "      <th>11417</th>\n",
       "      <td>Penthouse</td>\n",
       "      <td>Buy your unit with installments over 9 years M...</td>\n",
       "      <td>Mountain View iCity, 5th Settlement Compounds,...</td>\n",
       "      <td>3</td>\n",
       "      <td>3</td>\n",
       "      <td>160</td>\n",
       "      <td>4,554,066</td>\n",
       "    </tr>\n",
       "  </tbody>\n",
       "</table>\n",
       "<p>11418 rows × 7 columns</p>\n",
       "</div>"
      ],
      "text/plain": [
       "            type                                              title  \\\n",
       "0         Duplex     Prime Location Duplex Fully Finished With A\\C    \n",
       "1          Villa  Town house resale at Mivida Emaar with best price   \n",
       "2      Apartment   Lake View Residence - Apartment | Prime Location   \n",
       "3      Townhouse  Best Penthouse for sale in villette ( sky conds )   \n",
       "4      Penthouse  2nd Floor | Fully Finished | Lowest Price |Par...   \n",
       "...          ...                                                ...   \n",
       "11413      Villa  فيلا تشطيب الترا سوبر لوكس بالتجمع علي شارع رئ...   \n",
       "11414  Townhouse         town house for sale 220m Mountain View III   \n",
       "11415  Apartment        3 Bedrooms|Del 2026|5% Down|9 years install   \n",
       "11416  Penthouse        Very prime location penthouse 275m for sale   \n",
       "11417  Penthouse  Buy your unit with installments over 9 years M...   \n",
       "\n",
       "                                                location bedroom  bathroom  \\\n",
       "0      Park View, North Investors Area, New Cairo Cit...       4         4   \n",
       "1      Mivida, 5th Settlement Compounds, The 5th Sett...       3         3   \n",
       "2      Lake View Residence, 5th Settlement Compounds,...       3         3   \n",
       "3      La Vista City, New Capital Compounds, New Capi...       4         4   \n",
       "4      Villette, 5th Settlement Compounds, The 5th Se...       5         6   \n",
       "...                                                  ...     ...       ...   \n",
       "11413  Street70, District 2, The 5th Settlement, New ...       8         7   \n",
       "11414  Mountain View 3, 5th Settlement Compounds, The...       4         4   \n",
       "11415  IL Bosco City, Mostakbal City Compounds, Mosta...       3         3   \n",
       "11416  Stone Residence, 5th Settlement Compounds, The...       5         4   \n",
       "11417  Mountain View iCity, 5th Settlement Compounds,...       3         3   \n",
       "\n",
       "      size_sqm       price  \n",
       "0          345   6,850,000  \n",
       "1          285  10,000,000  \n",
       "2          210   5,700,000  \n",
       "3          230   7,510,000  \n",
       "4          284   8,511,300  \n",
       "...        ...         ...  \n",
       "11413    1,500  30,000,000  \n",
       "11414      220  10,276,891  \n",
       "11415      177   2,811,346  \n",
       "11416      275   3,000,000  \n",
       "11417      160   4,554,066  \n",
       "\n",
       "[11418 rows x 7 columns]"
      ]
     },
     "execution_count": 2,
     "metadata": {},
     "output_type": "execute_result"
    }
   ],
   "source": [
    "df=pd.read_csv(r'C:\\Users\\drago\\Desktop\\uni\\Task\\properties.csv', encoding = \"UTF-8\")\n",
    "df"
   ]
  },
  {
   "cell_type": "markdown",
   "metadata": {},
   "source": [
    "Data cleaning\n"
   ]
  },
  {
   "cell_type": "code",
   "execution_count": 3,
   "metadata": {},
   "outputs": [
    {
     "name": "stdout",
     "output_type": "stream",
     "text": [
      "<class 'pandas.core.frame.DataFrame'>\n",
      "RangeIndex: 11418 entries, 0 to 11417\n",
      "Data columns (total 7 columns):\n",
      " #   Column    Non-Null Count  Dtype \n",
      "---  ------    --------------  ----- \n",
      " 0   type      11418 non-null  object\n",
      " 1   title     11418 non-null  object\n",
      " 2   location  11418 non-null  object\n",
      " 3   bedroom   11418 non-null  object\n",
      " 4   bathroom  11418 non-null  int64 \n",
      " 5   size_sqm  11418 non-null  object\n",
      " 6   price     11418 non-null  object\n",
      "dtypes: int64(1), object(6)\n",
      "memory usage: 624.6+ KB\n"
     ]
    }
   ],
   "source": [
    "df.info()"
   ]
  },
  {
   "cell_type": "code",
   "execution_count": 4,
   "metadata": {},
   "outputs": [
    {
     "data": {
      "text/plain": [
       "308"
      ]
     },
     "execution_count": 4,
     "metadata": {},
     "output_type": "execute_result"
    }
   ],
   "source": [
    "\n",
    "df.duplicated().sum()"
   ]
  },
  {
   "cell_type": "code",
   "execution_count": 5,
   "metadata": {},
   "outputs": [],
   "source": [
    "df = df.drop_duplicates()"
   ]
  },
  {
   "cell_type": "code",
   "execution_count": 6,
   "metadata": {},
   "outputs": [
    {
     "data": {
      "text/html": [
       "<div>\n",
       "<style scoped>\n",
       "    .dataframe tbody tr th:only-of-type {\n",
       "        vertical-align: middle;\n",
       "    }\n",
       "\n",
       "    .dataframe tbody tr th {\n",
       "        vertical-align: top;\n",
       "    }\n",
       "\n",
       "    .dataframe thead th {\n",
       "        text-align: right;\n",
       "    }\n",
       "</style>\n",
       "<table border=\"1\" class=\"dataframe\">\n",
       "  <thead>\n",
       "    <tr style=\"text-align: right;\">\n",
       "      <th></th>\n",
       "      <th>type</th>\n",
       "      <th>title</th>\n",
       "      <th>location</th>\n",
       "      <th>bedroom</th>\n",
       "      <th>bathroom</th>\n",
       "      <th>size_sqm</th>\n",
       "      <th>price</th>\n",
       "    </tr>\n",
       "  </thead>\n",
       "  <tbody>\n",
       "    <tr>\n",
       "      <th>0</th>\n",
       "      <td>Duplex</td>\n",
       "      <td>Prime Location Duplex Fully Finished With A\\C</td>\n",
       "      <td>Park View, North Investors Area, New Cairo Cit...</td>\n",
       "      <td>4</td>\n",
       "      <td>4</td>\n",
       "      <td>345</td>\n",
       "      <td>6,850,000</td>\n",
       "    </tr>\n",
       "    <tr>\n",
       "      <th>1</th>\n",
       "      <td>Villa</td>\n",
       "      <td>Town house resale at Mivida Emaar with best price</td>\n",
       "      <td>Mivida, 5th Settlement Compounds, The 5th Sett...</td>\n",
       "      <td>3</td>\n",
       "      <td>3</td>\n",
       "      <td>285</td>\n",
       "      <td>10,000,000</td>\n",
       "    </tr>\n",
       "    <tr>\n",
       "      <th>2</th>\n",
       "      <td>Apartment</td>\n",
       "      <td>Lake View Residence - Apartment | Prime Location</td>\n",
       "      <td>Lake View Residence, 5th Settlement Compounds,...</td>\n",
       "      <td>3</td>\n",
       "      <td>3</td>\n",
       "      <td>210</td>\n",
       "      <td>5,700,000</td>\n",
       "    </tr>\n",
       "    <tr>\n",
       "      <th>3</th>\n",
       "      <td>Townhouse</td>\n",
       "      <td>Best Penthouse for sale in villette ( sky conds )</td>\n",
       "      <td>La Vista City, New Capital Compounds, New Capi...</td>\n",
       "      <td>4</td>\n",
       "      <td>4</td>\n",
       "      <td>230</td>\n",
       "      <td>7,510,000</td>\n",
       "    </tr>\n",
       "    <tr>\n",
       "      <th>4</th>\n",
       "      <td>Penthouse</td>\n",
       "      <td>2nd Floor | Fully Finished | Lowest Price |Par...</td>\n",
       "      <td>Villette, 5th Settlement Compounds, The 5th Se...</td>\n",
       "      <td>5</td>\n",
       "      <td>6</td>\n",
       "      <td>284</td>\n",
       "      <td>8,511,300</td>\n",
       "    </tr>\n",
       "    <tr>\n",
       "      <th>...</th>\n",
       "      <td>...</td>\n",
       "      <td>...</td>\n",
       "      <td>...</td>\n",
       "      <td>...</td>\n",
       "      <td>...</td>\n",
       "      <td>...</td>\n",
       "      <td>...</td>\n",
       "    </tr>\n",
       "    <tr>\n",
       "      <th>11413</th>\n",
       "      <td>Villa</td>\n",
       "      <td>فيلا تشطيب الترا سوبر لوكس بالتجمع علي شارع رئ...</td>\n",
       "      <td>Street70, District 2, The 5th Settlement, New ...</td>\n",
       "      <td>8</td>\n",
       "      <td>7</td>\n",
       "      <td>1,500</td>\n",
       "      <td>30,000,000</td>\n",
       "    </tr>\n",
       "    <tr>\n",
       "      <th>11414</th>\n",
       "      <td>Townhouse</td>\n",
       "      <td>town house for sale 220m Mountain View III</td>\n",
       "      <td>Mountain View 3, 5th Settlement Compounds, The...</td>\n",
       "      <td>4</td>\n",
       "      <td>4</td>\n",
       "      <td>220</td>\n",
       "      <td>10,276,891</td>\n",
       "    </tr>\n",
       "    <tr>\n",
       "      <th>11415</th>\n",
       "      <td>Apartment</td>\n",
       "      <td>3 Bedrooms|Del 2026|5% Down|9 years install</td>\n",
       "      <td>IL Bosco City, Mostakbal City Compounds, Mosta...</td>\n",
       "      <td>3</td>\n",
       "      <td>3</td>\n",
       "      <td>177</td>\n",
       "      <td>2,811,346</td>\n",
       "    </tr>\n",
       "    <tr>\n",
       "      <th>11416</th>\n",
       "      <td>Penthouse</td>\n",
       "      <td>Very prime location penthouse 275m for sale</td>\n",
       "      <td>Stone Residence, 5th Settlement Compounds, The...</td>\n",
       "      <td>5</td>\n",
       "      <td>4</td>\n",
       "      <td>275</td>\n",
       "      <td>3,000,000</td>\n",
       "    </tr>\n",
       "    <tr>\n",
       "      <th>11417</th>\n",
       "      <td>Penthouse</td>\n",
       "      <td>Buy your unit with installments over 9 years M...</td>\n",
       "      <td>Mountain View iCity, 5th Settlement Compounds,...</td>\n",
       "      <td>3</td>\n",
       "      <td>3</td>\n",
       "      <td>160</td>\n",
       "      <td>4,554,066</td>\n",
       "    </tr>\n",
       "  </tbody>\n",
       "</table>\n",
       "<p>11110 rows × 7 columns</p>\n",
       "</div>"
      ],
      "text/plain": [
       "            type                                              title  \\\n",
       "0         Duplex     Prime Location Duplex Fully Finished With A\\C    \n",
       "1          Villa  Town house resale at Mivida Emaar with best price   \n",
       "2      Apartment   Lake View Residence - Apartment | Prime Location   \n",
       "3      Townhouse  Best Penthouse for sale in villette ( sky conds )   \n",
       "4      Penthouse  2nd Floor | Fully Finished | Lowest Price |Par...   \n",
       "...          ...                                                ...   \n",
       "11413      Villa  فيلا تشطيب الترا سوبر لوكس بالتجمع علي شارع رئ...   \n",
       "11414  Townhouse         town house for sale 220m Mountain View III   \n",
       "11415  Apartment        3 Bedrooms|Del 2026|5% Down|9 years install   \n",
       "11416  Penthouse        Very prime location penthouse 275m for sale   \n",
       "11417  Penthouse  Buy your unit with installments over 9 years M...   \n",
       "\n",
       "                                                location bedroom  bathroom  \\\n",
       "0      Park View, North Investors Area, New Cairo Cit...       4         4   \n",
       "1      Mivida, 5th Settlement Compounds, The 5th Sett...       3         3   \n",
       "2      Lake View Residence, 5th Settlement Compounds,...       3         3   \n",
       "3      La Vista City, New Capital Compounds, New Capi...       4         4   \n",
       "4      Villette, 5th Settlement Compounds, The 5th Se...       5         6   \n",
       "...                                                  ...     ...       ...   \n",
       "11413  Street70, District 2, The 5th Settlement, New ...       8         7   \n",
       "11414  Mountain View 3, 5th Settlement Compounds, The...       4         4   \n",
       "11415  IL Bosco City, Mostakbal City Compounds, Mosta...       3         3   \n",
       "11416  Stone Residence, 5th Settlement Compounds, The...       5         4   \n",
       "11417  Mountain View iCity, 5th Settlement Compounds,...       3         3   \n",
       "\n",
       "      size_sqm       price  \n",
       "0          345   6,850,000  \n",
       "1          285  10,000,000  \n",
       "2          210   5,700,000  \n",
       "3          230   7,510,000  \n",
       "4          284   8,511,300  \n",
       "...        ...         ...  \n",
       "11413    1,500  30,000,000  \n",
       "11414      220  10,276,891  \n",
       "11415      177   2,811,346  \n",
       "11416      275   3,000,000  \n",
       "11417      160   4,554,066  \n",
       "\n",
       "[11110 rows x 7 columns]"
      ]
     },
     "execution_count": 6,
     "metadata": {},
     "output_type": "execute_result"
    }
   ],
   "source": [
    "df"
   ]
  },
  {
   "cell_type": "markdown",
   "metadata": {},
   "source": [
    "fixing type\n"
   ]
  },
  {
   "cell_type": "code",
   "execution_count": 7,
   "metadata": {},
   "outputs": [
    {
     "data": {
      "text/plain": [
       "array(['Duplex', 'Villa', 'Apartment', 'Townhouse', 'Penthouse', 'iVilla',\n",
       "       'Twin House', 'Hotel Apartment', 'Chalet', 'Compound'],\n",
       "      dtype=object)"
      ]
     },
     "execution_count": 7,
     "metadata": {},
     "output_type": "execute_result"
    }
   ],
   "source": [
    "df['type'].unique()"
   ]
  },
  {
   "cell_type": "code",
   "execution_count": 8,
   "metadata": {},
   "outputs": [
    {
     "data": {
      "text/plain": [
       "0"
      ]
     },
     "execution_count": 8,
     "metadata": {},
     "output_type": "execute_result"
    }
   ],
   "source": [
    "df['type'].isnull().sum()"
   ]
  },
  {
   "cell_type": "markdown",
   "metadata": {},
   "source": [
    "fixing title\n"
   ]
  },
  {
   "cell_type": "code",
   "execution_count": 9,
   "metadata": {},
   "outputs": [
    {
     "data": {
      "text/plain": [
       "array(['Prime Location Duplex Fully Finished With A\\\\C ',\n",
       "       'Town house resale at Mivida Emaar with best price',\n",
       "       'Lake View Residence - Apartment | Prime Location', ...,\n",
       "       'فيلا تشطيب الترا سوبر لوكس بالتجمع علي شارع رئيسي ',\n",
       "       'town house for sale 220m Mountain View III',\n",
       "       'Very prime location penthouse 275m for sale'], dtype=object)"
      ]
     },
     "execution_count": 9,
     "metadata": {},
     "output_type": "execute_result"
    }
   ],
   "source": [
    "df['title'].unique()"
   ]
  },
  {
   "cell_type": "code",
   "execution_count": 10,
   "metadata": {},
   "outputs": [
    {
     "name": "stderr",
     "output_type": "stream",
     "text": [
      "C:\\Users\\drago\\AppData\\Local\\Temp\\ipykernel_13756\\1995665762.py:1: SettingWithCopyWarning: \n",
      "A value is trying to be set on a copy of a slice from a DataFrame\n",
      "\n",
      "See the caveats in the documentation: https://pandas.pydata.org/pandas-docs/stable/user_guide/indexing.html#returning-a-view-versus-a-copy\n",
      "  df.drop('title', axis=1, inplace=True)\n"
     ]
    }
   ],
   "source": [
    "df.drop('title', axis=1, inplace=True)"
   ]
  },
  {
   "cell_type": "markdown",
   "metadata": {},
   "source": [
    "fixing location\n"
   ]
  },
  {
   "cell_type": "code",
   "execution_count": 11,
   "metadata": {},
   "outputs": [
    {
     "data": {
      "text/plain": [
       "array(['Park View, North Investors Area, New Cairo City, Cairo',\n",
       "       'Mivida, 5th Settlement Compounds, The 5th Settlement, New Cairo City, Cairo',\n",
       "       'Lake View Residence, 5th Settlement Compounds, The 5th Settlement, New Cairo City, Cairo',\n",
       "       'La Vista City, New Capital Compounds, New Capital City, Cairo',\n",
       "       'Villette, 5th Settlement Compounds, The 5th Settlement, New Cairo City, Cairo',\n",
       "       'Tag Sultan, Ring Road, Cairo',\n",
       "       'Cairo Festival City, North Investors Area, New Cairo City, Cairo',\n",
       "       'Taj City, 5th Settlement Compounds, The 5th Settlement, New Cairo City, Cairo',\n",
       "       'Palm Hills New Cairo, 5th Settlement Compounds, The 5th Settlement, New Cairo City, Cairo',\n",
       "       'Hyde Park, 5th Settlement Compounds, The 5th Settlement, New Cairo City, Cairo',\n",
       "       'IL Bosco, New Capital Compounds, New Capital City, Cairo',\n",
       "       'El Rehab Extension, Al Rehab, New Cairo City, Cairo',\n",
       "       'Mountain View Hyde Park, 5th Settlement Compounds, The 5th Settlement, New Cairo City, Cairo',\n",
       "       'Al Gezira St., South Investors Area, New Cairo City, Cairo',\n",
       "       'Oia, New Capital Compounds, New Capital City, Cairo',\n",
       "       'Sarai, Mostakbal City Compounds, Mostakbal City - Future City, Cairo',\n",
       "       'District 5, 5th Settlement Compounds, The 5th Settlement, New Cairo City, Cairo',\n",
       "       'Al Burouj Compound, El Shorouk Compounds, Shorouk City, Cairo',\n",
       "       'Ismailia Square, El Ismailia Square, Heliopolis - Masr El Gedida, Cairo',\n",
       "       'Stone Park, 5th Settlement Compounds, The 5th Settlement, New Cairo City, Cairo',\n",
       "       'West Golf Extension, El Katameya Compounds, El Katameya, New Cairo City, Cairo',\n",
       "       'Mountain View Executive, Al Andalus District, New Cairo City, Cairo',\n",
       "       '90 Avenue, South Investors Area, New Cairo City, Cairo',\n",
       "       'Layan Residence, 5th Settlement Compounds, The 5th Settlement, New Cairo City, Cairo',\n",
       "       'El Patio 7, 5th Settlement Compounds, The 5th Settlement, New Cairo City, Cairo',\n",
       "       'Fifth Square, North Investors Area, New Cairo City, Cairo',\n",
       "       'Rock Vera, 5th Settlement Compounds, The 5th Settlement, New Cairo City, Cairo',\n",
       "       'District 5 Residences, El Katameya Compounds, El Katameya, New Cairo City, Cairo',\n",
       "       'El Banafseg Apartment Buildings, El Banafseg, New Cairo City, Cairo',\n",
       "       'Al Thawra St., El Korba, Heliopolis - Masr El Gedida, Cairo',\n",
       "       'Cornish El Nile St., Maadi, Hay El Maadi, Cairo',\n",
       "       'Al Andalus El Gedida, Al Andalus District, New Cairo City, Cairo',\n",
       "       'Palm Hills Kattameya, El Katameya Compounds, El Katameya, New Cairo City, Cairo',\n",
       "       'Dyar Compound, 90 Street, The 5th Settlement, New Cairo City, Cairo',\n",
       "       'Galleria Moon Valley, South Investors Area, New Cairo City, Cairo',\n",
       "       'Swan Lake, The 1st Settlement, New Cairo City, Cairo',\n",
       "       'Eastown, 5th Settlement Compounds, The 5th Settlement, New Cairo City, Cairo',\n",
       "       'Patio Casa, El Patio, El Shorouk Compounds, Shorouk City, Cairo',\n",
       "       'Village Gardens Katameya, 5th Settlement Compounds, The 5th Settlement, New Cairo City, Cairo',\n",
       "       'El Patio Oro, 5th Settlement Compounds, The 5th Settlement, New Cairo City, Cairo',\n",
       "       'D-Square, Downtown Area, New Capital City, Cairo',\n",
       "       'Mostafa Kamel Axis, The 1st Settlement, New Cairo City, Cairo',\n",
       "       'Palm Hills Village Gate, South Investors Area, New Cairo City, Cairo',\n",
       "       'The Fourteen Golf Residences, Uptown Cairo, Mokattam, Cairo',\n",
       "       'Grand Residence, South Investors Area, New Cairo City, Cairo',\n",
       "       'Stone Residence, 5th Settlement Compounds, The 5th Settlement, New Cairo City, Cairo',\n",
       "       'HAP Town, Mostakbal City Compounds, Mostakbal City - Future City, Cairo',\n",
       "       'Al Maqsad, New Capital Compounds, New Capital City, Cairo',\n",
       "       'Al Narges 2, Al Narges, New Cairo City, Cairo',\n",
       "       'Zed East, 5th Settlement Compounds, The 5th Settlement, New Cairo City, Cairo',\n",
       "       'Maxim, The 1st Settlement, New Cairo City, Cairo',\n",
       "       'Celesta Hills, Uptown Cairo, Mokattam, Cairo',\n",
       "       'The Village, South Investors Area, New Cairo City, Cairo',\n",
       "       'Palm Hills Katameya Extension, 5th Settlement Compounds, The 5th Settlement, New Cairo City, Cairo',\n",
       "       'De Joya, New Capital Compounds, New Capital City, Cairo',\n",
       "       'Al Shouyfat, 5th Settlement Compounds, The 5th Settlement, New Cairo City, Cairo',\n",
       "       'Capital Gardens   Palm Hills, Mostakbal City Compounds, Mostakbal City - Future City, Cairo',\n",
       "       'Nile Business City, Downtown Area, New Capital City, Cairo',\n",
       "       'Mountain View iCity, 5th Settlement Compounds, The 5th Settlement, New Cairo City, Cairo',\n",
       "       'Lake View, 5th Settlement Compounds, The 5th Settlement, New Cairo City, Cairo',\n",
       "       'Terencia, Uptown Cairo, Mokattam, Cairo',\n",
       "       'Al Sadat Axis, The 1st Settlement, New Cairo City, Cairo',\n",
       "       'Monte Napoleone, Mostakbal City Compounds, Mostakbal City - Future City, Cairo',\n",
       "       'Katameya Gardens, El Katameya Compounds, El Katameya, New Cairo City, Cairo',\n",
       "       'Street 3, District 1, The 5th Settlement, New Cairo City, Cairo',\n",
       "       'IL Bosco City, Mostakbal City Compounds, Mostakbal City - Future City, Cairo',\n",
       "       'Sodic East, 6th District, New Heliopolis, Cairo',\n",
       "       'Park Lane, New Capital Compounds, New Capital City, Cairo',\n",
       "       'Madinaty, Cairo',\n",
       "       'The Loft, New Capital Compounds, New Capital City, Cairo',\n",
       "       'Azad, 5th Settlement Compounds, The 5th Settlement, New Cairo City, Cairo',\n",
       "       'Abdel Rahman Al Sharkawy St., El Banafseg 9, El Banafseg, New Cairo City, Cairo',\n",
       "       'Galleria Residences, South Investors Area, New Cairo City, Cairo',\n",
       "       'Sarayat Al Maadi, Hay El Maadi, Cairo',\n",
       "       'La Verde, New Capital Compounds, New Capital City, Cairo',\n",
       "       'The City of Odyssia, Mostakbal City Compounds, Mostakbal City - Future City, Cairo',\n",
       "       'El Narges Buildings, Al Narges, New Cairo City, Cairo',\n",
       "       'Bait Alwatan, The 5th Settlement, New Cairo City, Cairo',\n",
       "       'Scenario, New Capital Compounds, New Capital City, Cairo',\n",
       "       'Les Rois, 5th Settlement Compounds, The 5th Settlement, New Cairo City, Cairo',\n",
       "       'Katameya Dunes, El Katameya Compounds, El Katameya, New Cairo City, Cairo',\n",
       "       'Life View Villas, El Shorouk Compounds, Shorouk City, Cairo',\n",
       "       'Katameya Palms, 5th Settlement Compounds, The 5th Settlement, New Cairo City, Cairo',\n",
       "       'Atika, New Capital Compounds, New Capital City, Cairo',\n",
       "       'Yaru new capital Compound, New Capital Compounds, New Capital City, Cairo',\n",
       "       'Bloomfields, Mostakbal City Compounds, Mostakbal City - Future City, Cairo',\n",
       "       'Mountain View 2, 5th Settlement Compounds, The 5th Settlement, New Cairo City, Cairo',\n",
       "       'El Koronfel, The 5th Settlement, New Cairo City, Cairo',\n",
       "       'Eleva, Uptown Cairo, Mokattam, Cairo',\n",
       "       'JAYD Residence, 5th Settlement Compounds, The 5th Settlement, New Cairo City, Cairo',\n",
       "       'Dyar, Ext North Inves Area, New Cairo City, Cairo',\n",
       "       'R7, New Capital City, Cairo',\n",
       "       'Verona Compound, Al Hadaba Al Wosta, Mokattam, Cairo',\n",
       "       'Azzar 2, 5th Settlement Compounds, The 5th Settlement, New Cairo City, Cairo',\n",
       "       'Hashem Al Attar St., New Fustat, Hay Masr El Kadima, Cairo',\n",
       "       'Katameya Creeks, 5th Settlement Compounds, The 5th Settlement, New Cairo City, Cairo',\n",
       "       'Sun City Gardens, Ext North Inves Area, New Cairo City, Cairo',\n",
       "       'Isadore, Uptown Cairo, Mokattam, Cairo',\n",
       "       'The Square, 5th Settlement Compounds, The 5th Settlement, New Cairo City, Cairo',\n",
       "       'Gardenia Springs, Ext North Inves Area, New Cairo City, Cairo',\n",
       "       'Spring Valley, 3rd District West, Shorouk City, Cairo',\n",
       "       'Al Patio 3, Ext North Inves Area, New Cairo City, Cairo',\n",
       "       'Swan Lake Residence, 5th Settlement Compounds, The 5th Settlement, New Cairo City, Cairo',\n",
       "       'Levana, Uptown Cairo, Mokattam, Cairo',\n",
       "       'Sour Dar Al Defaa El Gawy St., Ard El Golf, Heliopolis - Masr El Gedida, Cairo',\n",
       "       'The Icon Residence, 5th Settlement Compounds, The 5th Settlement, New Cairo City, Cairo',\n",
       "       'La Mirada Compound, 5th Settlement Compounds, The 5th Settlement, New Cairo City, Cairo',\n",
       "       'Midtown Sky, New Capital Compounds, New Capital City, Cairo',\n",
       "       'Al Ismailia Road, Shorouk City, Cairo',\n",
       "       'Hayah Residence, North Teseen St., The 5th Settlement, New Cairo City, Cairo',\n",
       "       'Fountain Side, Uptown Cairo, Mokattam, Cairo',\n",
       "       'Green Square, Mostakbal City Compounds, Mostakbal City - Future City, Cairo',\n",
       "       'Porto New Cairo, 5th Settlement Compounds, The 5th Settlement, New Cairo City, Cairo',\n",
       "       'Midtown, South Investors Area, New Cairo City, Cairo',\n",
       "       'Century City, 5th Settlement Compounds, The 5th Settlement, New Cairo City, Cairo',\n",
       "       'Mountain View 3, 5th Settlement Compounds, The 5th Settlement, New Cairo City, Cairo',\n",
       "       'Granda Life, El Shorouk Compounds, Shorouk City, Cairo',\n",
       "       'One Ninety Mall, South Teseen St., The 5th Settlement, New Cairo City, Cairo',\n",
       "       'Al Feda Gardens, 5th Settlement Compounds, The 5th Settlement, New Cairo City, Cairo',\n",
       "       'Midtown, New Capital Compounds, New Capital City, Cairo',\n",
       "       '1st Neighborhood, 1st Area, Shorouk City, Cairo',\n",
       "       'Castle Landmark, New Capital Compounds, New Capital City, Cairo',\n",
       "       'Dyar Park, Ext North Inves Area, New Cairo City, Cairo',\n",
       "       'Doctor Yassin Abdel Ghaffar St., Area C, Ganoob El Acadimia, New Cairo City, Cairo',\n",
       "       'Vinci, New Capital Compounds, New Capital City, Cairo',\n",
       "       'Marina City, 5th Settlement Compounds, The 5th Settlement, New Cairo City, Cairo',\n",
       "       'Trio Villas, 5th Settlement Compounds, The 5th Settlement, New Cairo City, Cairo',\n",
       "       'Katameya Hills, 5th Settlement Compounds, The 5th Settlement, New Cairo City, Cairo',\n",
       "       'Roses, New Capital Compounds, New Capital City, Cairo',\n",
       "       'Eastshire compound, 5th Settlement Compounds, The 5th Settlement, New Cairo City, Cairo',\n",
       "       'West Golf, El Katameya Compounds, El Katameya, New Cairo City, Cairo',\n",
       "       'Al Diyar, Al Narges, New Cairo City, Cairo',\n",
       "       'Rivan, New Capital Compounds, New Capital City, Cairo',\n",
       "       'The Waterway Villas, Ext North Inves Area, New Cairo City, Cairo',\n",
       "       'Maadi View, El Shorouk Compounds, Shorouk City, Cairo',\n",
       "       'Street 231, Degla, Hay El Maadi, Cairo',\n",
       "       'Al Patio 5 East, El Patio, El Shorouk Compounds, Shorouk City, Cairo',\n",
       "       'Azzar, 5th Settlement Compounds, The 5th Settlement, New Cairo City, Cairo',\n",
       "       'The Wonder Marq, Mostakbal City Compounds, Mostakbal City - Future City, Cairo',\n",
       "       'Gamal Abdel Nasser Axis, The 3rd Settlement, New Cairo City, Cairo',\n",
       "       'Abo Khairy St., Rehab City Third Phase, Al Rehab, New Cairo City, Cairo',\n",
       "       'Cleopatra Palace, 5th District, Shorouk City, Cairo',\n",
       "       'Central Business District, New Capital City, Cairo',\n",
       "       'Teba, 5th Settlement Compounds, The 5th Settlement, New Cairo City, Cairo',\n",
       "       'Mountain View 1, 5th Settlement Compounds, The 5th Settlement, New Cairo City, Cairo',\n",
       "       'El Gezirah St., Zamalek, Cairo',\n",
       "       'The Address East, 90 Street, The 5th Settlement, New Cairo City, Cairo',\n",
       "       'Regents Park, Al Andalus District, New Cairo City, Cairo',\n",
       "       'Stei8ht, The 1st Settlement, New Cairo City, Cairo',\n",
       "       'Mohamed Naguib Axis, North Investors Area, New Cairo City, Cairo',\n",
       "       'District 5, The 5th Settlement, New Cairo City, Cairo',\n",
       "       'Omarat Al Cinema St., Manteqet Al Cinema, Nasr City, Cairo',\n",
       "       'Next Point, Al Hadaba Al Wosta, Mokattam, Cairo',\n",
       "       'New Capital Compounds, New Capital City, Cairo',\n",
       "       'Uptown Cairo, Mokattam, Cairo',\n",
       "       'North Rehab, New Cairo City, Cairo',\n",
       "       'Amorada, 5th Settlement Compounds, The 5th Settlement, New Cairo City, Cairo',\n",
       "       'Kardia, New Capital Compounds, New Capital City, Cairo',\n",
       "       'The Waterway View, 90 Street, The 5th Settlement, New Cairo City, Cairo',\n",
       "       \"L'avenir, Mostakbal City Compounds, Mostakbal City - Future City, Cairo\",\n",
       "       'El Nady District, Shorouk City, Cairo',\n",
       "       'Al Patio Prime, El Patio, El Shorouk Compounds, Shorouk City, Cairo',\n",
       "       'Ibrahim Nawar St., 6th Zone, Nasr City, Cairo',\n",
       "       'Hafez Ramadan St., 6th Zone, Nasr City, Cairo',\n",
       "       'Arabella, 5th Settlement Compounds, The 5th Settlement, New Cairo City, Cairo',\n",
       "       'Golf Porto Cairo, Mostakbal City Compounds, Mostakbal City - Future City, Cairo',\n",
       "       'Sky Capital, New Capital Compounds, New Capital City, Cairo',\n",
       "       'The Sierras, Uptown Cairo, Mokattam, Cairo',\n",
       "       '5th Neighborhood, 1st Area, Shorouk City, Cairo',\n",
       "       'Katameya Heights, El Katameya Compounds, El Katameya, New Cairo City, Cairo',\n",
       "       'Shorouk City, Cairo',\n",
       "       'Midtown Condo, New Capital Compounds, New Capital City, Cairo',\n",
       "       'Cleopatra St., El Korba, Heliopolis - Masr El Gedida, Cairo',\n",
       "       'Granda, 5th District, Shorouk City, Cairo',\n",
       "       'Porto Cairo Residence, The 1st Settlement, New Cairo City, Cairo',\n",
       "       'Mostakbal City Compounds, Mostakbal City - Future City, Cairo',\n",
       "       'Al Nozha St., Almazah, Heliopolis - Masr El Gedida, Cairo',\n",
       "       'Dr Mostafa Al Diwany St., Garden City, Cairo',\n",
       "       'Al Nozha, 9th District, New Heliopolis, Cairo',\n",
       "       'One Piece, North Teseen St., The 5th Settlement, New Cairo City, Cairo',\n",
       "       '2nd Neighborhood, 2nd Area, Shorouk City, Cairo',\n",
       "       'Zamalek, Cairo',\n",
       "       'Al Shorouk Road, 1st Neighborhood, 9th District, Shorouk City, Cairo',\n",
       "       'La Nuova Vista, North Investors Area, New Cairo City, Cairo',\n",
       "       'Armonia, New Capital Compounds, New Capital City, Cairo',\n",
       "       'Farid Shawky St., Rehab City Third Phase, Al Rehab, New Cairo City, Cairo',\n",
       "       'New Capital City, Cairo',\n",
       "       'New Lotus, The 5th Settlement, New Cairo City, Cairo',\n",
       "       'Zahraa Al Maadi St., Degla, Hay El Maadi, Cairo',\n",
       "       'El Yasmeen 8, El Yasmeen, New Cairo City, Cairo',\n",
       "       '2/2, Al Andalus District, New Cairo City, Cairo',\n",
       "       'The Marq ville, 5th Settlement Compounds, The 5th Settlement, New Cairo City, Cairo',\n",
       "       'Highland Park, 5th Settlement Compounds, The 5th Settlement, New Cairo City, Cairo',\n",
       "       'Rhodes, New Capital Compounds, New Capital City, Cairo',\n",
       "       '2nd Sector, Zahraa El Maadi, Hay El Maadi, Cairo',\n",
       "       'Bahgat Ali St. (Ebn Al Nabeh), Zamalek, Cairo',\n",
       "       'Celia, New Capital Compounds, New Capital City, Cairo',\n",
       "       'New Narges, New Cairo City, Cairo',\n",
       "       'The 5th Settlement, New Cairo City, Cairo',\n",
       "       'Masaken Sheraton, Sheraton Al Matar, El Nozha, Cairo',\n",
       "       'Aria Compound, 5th Settlement Compounds, The 5th Settlement, New Cairo City, Cairo',\n",
       "       'Abou Bakr Al Sedeek St., Rehab City Second Phase, Al Rehab, New Cairo City, Cairo',\n",
       "       '1st Neighborhood, 3rd Area, Shorouk City, Cairo',\n",
       "       'Street 81, Al Hadaba Al Olya, Mokattam, Cairo',\n",
       "       'Bellagio, Ext North Inves Area, New Cairo City, Cairo',\n",
       "       'V90, North Teseen St., The 5th Settlement, New Cairo City, Cairo',\n",
       "       'Eighth Sector, Zahraa El Maadi, Hay El Maadi, Cairo',\n",
       "       'Al Shorouk 2000, El Shorouk Compounds, Shorouk City, Cairo',\n",
       "       'Al Andalus Family, Al Andalus District, New Cairo City, Cairo',\n",
       "       'Mohamed Mazhar St., Zamalek, Cairo',\n",
       "       'El Diplomaseen, The 5th Settlement, New Cairo City, Cairo',\n",
       "       'Flowers Park, North Investors Area, New Cairo City, Cairo',\n",
       "       'Al Tayaran St., El Tawfik City, Nasr City, Cairo',\n",
       "       'Block 36, District 1, The 5th Settlement, New Cairo City, Cairo',\n",
       "       'Seasons Residence, Ext North Inves Area, New Cairo City, Cairo',\n",
       "       'Eagles, 5th Settlement Compounds, The 5th Settlement, New Cairo City, Cairo',\n",
       "       'Zahrat El Tagamoa, North Investors Area, New Cairo City, Cairo',\n",
       "       'City Gate, 5th Settlement Compounds, The 5th Settlement, New Cairo City, Cairo',\n",
       "       'Al Mansour Mohamed St., Zamalek, Cairo',\n",
       "       'The City, New Capital Compounds, New Capital City, Cairo',\n",
       "       'Fountain Blue, South Investors Area, New Cairo City, Cairo',\n",
       "       'Acasa, 5th Settlement Compounds, The 5th Settlement, New Cairo City, Cairo',\n",
       "       'West Arabella, 5th Settlement Compounds, The 5th Settlement, New Cairo City, Cairo',\n",
       "       'Suleiman Al Halabi St., El Banafseg 11, El Banafseg, New Cairo City, Cairo',\n",
       "       'Zizinia Al Mostakbal, Mostakbal City Compounds, Mostakbal City - Future City, Cairo',\n",
       "       'The brooks, El Katameya Compounds, El Katameya, New Cairo City, Cairo',\n",
       "       'Aurora, Uptown Cairo, Mokattam, Cairo',\n",
       "       'Al Safa St., Zamalek, Cairo',\n",
       "       'Al Katameya Plaza, The 1st Settlement, New Cairo City, Cairo',\n",
       "       'Al Gazaer St., New Maadi Extension, Hay El Maadi, Cairo',\n",
       "       'Dr Hassan Al Sherif St., 8th Zone, Nasr City, Cairo',\n",
       "       'Moon Valley, South Investors Area, New Cairo City, Cairo',\n",
       "       'Mirage City, The 1st Settlement, New Cairo City, Cairo',\n",
       "       'Gamal Al Din Elshayal St., Al Hadiqah Al Dawliyah, 7th District, Nasr City, Cairo',\n",
       "       'Naguib Al Rihani St., Al Narges 7, Al Narges, New Cairo City, Cairo',\n",
       "       'La Rosa, 5th Settlement Compounds, The 5th Settlement, New Cairo City, Cairo',\n",
       "       'Concordia 1, North Investors Area, New Cairo City, Cairo',\n",
       "       'Al Patio 5, El Patio, El Shorouk Compounds, Shorouk City, Cairo',\n",
       "       'American University Housing District, 5th Settlement Compounds, The 5th Settlement, New Cairo City, Cairo',\n",
       "       '13th Sector, Zahraa El Maadi, Hay El Maadi, Cairo',\n",
       "       '2nd Neighborhood, 9th Area, Shorouk City, Cairo',\n",
       "       'The Median Residences, 5th Settlement Compounds, The 5th Settlement, New Cairo City, Cairo',\n",
       "       'Mohamed Metwally Al Shaarawy St., Al Waha City, 10th District, Nasr City, Cairo',\n",
       "       'La Vida, 6th District, New Heliopolis, Cairo',\n",
       "       'Moon Valley 2, Ext North Inves Area, New Cairo City, Cairo',\n",
       "       'Mohamed Rahim St., El Yasmeen 3, El Yasmeen, New Cairo City, Cairo',\n",
       "       'Asmaa Fahmy St., Ard El Golf, Heliopolis - Masr El Gedida, Cairo',\n",
       "       'The Capital Way, New Capital Compounds, New Capital City, Cairo',\n",
       "       'Al Sharq Al Taamin, 5th Settlement Compounds, The 5th Settlement, New Cairo City, Cairo',\n",
       "       'Area B, Ganoob El Acadimia, New Cairo City, Cairo',\n",
       "       'Villar, North Investors Area, New Cairo City, Cairo',\n",
       "       'Maamoun Al Shennawi St., Rehab City First Phase, Al Rehab, New Cairo City, Cairo',\n",
       "       'Valore, Sheraton Al Matar, El Nozha, Cairo',\n",
       "       'Family City, North Investors Area, New Cairo City, Cairo',\n",
       "       'Stella, North Investors Area, New Cairo City, Cairo',\n",
       "       'Hayat Heights, North Investors Area, New Cairo City, Cairo',\n",
       "       'Al Lewaa Ahmed Mohamed Ali St., El Hegaz Square, El Nozha, Cairo',\n",
       "       'Palestine St., New Maadi, Hay El Maadi, Cairo',\n",
       "       'Street45, District 2, The 5th Settlement, New Cairo City, Cairo',\n",
       "       'Al Nawady Area, Shorouk City, Cairo',\n",
       "       'Al Patio 4, El Patio, El Shorouk Compounds, Shorouk City, Cairo',\n",
       "       'Fleur De Ville, South Investors Area, New Cairo City, Cairo',\n",
       "       'Masaken Nerco St., Degla, Hay El Maadi, Cairo',\n",
       "       'Plot 36, Group 11, 1st District, New Heliopolis, Cairo',\n",
       "       'Ring Road, Ganoob El Acadimia, New Cairo City, Cairo',\n",
       "       'Villino, North Investors Area, New Cairo City, Cairo',\n",
       "       'Creek Town, The 1st Settlement, New Cairo City, Cairo',\n",
       "       'El Banafseg 2, El Banafseg, New Cairo City, Cairo',\n",
       "       'Gobran Khalil Gobran St., Rehab City First Phase, Al Rehab, New Cairo City, Cairo',\n",
       "       'Mayfair Residence, El Shorouk Compounds, Shorouk City, Cairo',\n",
       "       \"Ja'far ibn Abi Talib St., El Yasmeen 4, El Yasmeen, New Cairo City, Cairo\",\n",
       "       'Ahmed Shawky Axis, El Banafseg 1, El Banafseg, New Cairo City, Cairo',\n",
       "       'Ibn Zinky St., Zamalek, Cairo',\n",
       "       'North Lotus, El Lotus, New Cairo City, Cairo',\n",
       "       'La Vie, South Investors Area, New Cairo City, Cairo',\n",
       "       'Golden Heights, North Investors Area, New Cairo City, Cairo',\n",
       "       'Al Ashrafiya, North Investors Area, New Cairo City, Cairo',\n",
       "       'Baron City, El Katameya Compounds, El Katameya, New Cairo City, Cairo',\n",
       "       'Abd Al Salam Farid St., Almazah, Heliopolis - Masr El Gedida, Cairo',\n",
       "       'Street 27, District 5, The 5th Settlement, New Cairo City, Cairo',\n",
       "       'Al Patio 2, North Investors Area, New Cairo City, Cairo',\n",
       "       'Beram Al Tunsi St., Al Narges 1, Al Narges, New Cairo City, Cairo',\n",
       "       'Wasef Ghaly Basha St., Al Narges 4, Al Narges, New Cairo City, Cairo',\n",
       "       'Midan Al Makhzangy, Al Narges 8, Al Narges, New Cairo City, Cairo',\n",
       "       'Capital East, Nasr City Compounds, Nasr City, Cairo',\n",
       "       'Al Patio 1, North Investors Area, New Cairo City, Cairo',\n",
       "       'South Lotus, El Lotus, New Cairo City, Cairo',\n",
       "       'Palm Hills Village Avenue, North Investors Area, New Cairo City, Cairo',\n",
       "       'Al Hegaz Square, El Hegaz Square, El Nozha, Cairo',\n",
       "       'Makram Ebeid St., 6th Zone, Nasr City, Cairo',\n",
       "       'Al Sheikh Hassan Maamoun St., El Yasmeen 7, El Yasmeen, New Cairo City, Cairo',\n",
       "       'Pukka, New Capital Compounds, New Capital City, Cairo',\n",
       "       '1st Neighborhood, 9th Area, Shorouk City, Cairo',\n",
       "       'Gamal Al Din Dewidar St., 8th Zone, Nasr City, Cairo',\n",
       "       'Scene 7, New Capital Compounds, New Capital City, Cairo',\n",
       "       'El Yasmeen 1, El Yasmeen, New Cairo City, Cairo',\n",
       "       'Stella Heliopolis, Cairo - Ismailia Desert Road, Cairo',\n",
       "       'Al Shorouk Springs, El Shorouk Compounds, Shorouk City, Cairo',\n",
       "       'Mountain View Executive Residence Katameya, El Katameya Compounds, El Katameya, New Cairo City, Cairo',\n",
       "       'Area G, Ganoob El Acadimia, New Cairo City, Cairo',\n",
       "       'Street 14, Al Hadaba Al Olya, Mokattam, Cairo',\n",
       "       'El Banafseg 12, El Banafseg, New Cairo City, Cairo',\n",
       "       'Cleopatra St., Al Gamea Square, Heliopolis - Masr El Gedida, Cairo',\n",
       "       'Beta Greens, Mostakbal City Compounds, Mostakbal City - Future City, Cairo',\n",
       "       '7th Sector, Zahraa El Maadi, Hay El Maadi, Cairo',\n",
       "       'Mostafa Baghdadi Square, District 3, The 5th Settlement, New Cairo City, Cairo',\n",
       "       'Talaat Mostafa St., Rehab City Second Phase, Al Rehab, New Cairo City, Cairo',\n",
       "       'Concord Gardens, 5th Settlement Compounds, The 5th Settlement, New Cairo City, Cairo',\n",
       "       'Sayed Darwish St., Al Narges 7, Al Narges, New Cairo City, Cairo',\n",
       "       'Abou Hanifa Al Noaman St., Rehab City First Phase, Al Rehab, New Cairo City, Cairo',\n",
       "       'Al Narges 1, Al Narges, New Cairo City, Cairo',\n",
       "       'El Banafseg 9, El Banafseg, New Cairo City, Cairo',\n",
       "       'District 1, The 5th Settlement, New Cairo City, Cairo',\n",
       "       '5th Settlement Compounds, The 5th Settlement, New Cairo City, Cairo',\n",
       "       'Rehab City First Phase, Al Rehab, New Cairo City, Cairo',\n",
       "       'Area F, Ganoob El Acadimia, New Cairo City, Cairo',\n",
       "       'Al Narges 4, Al Narges, New Cairo City, Cairo',\n",
       "       'Al Narges 5, Al Narges, New Cairo City, Cairo',\n",
       "       'El Banafseg 11, El Banafseg, New Cairo City, Cairo',\n",
       "       'Sun Gates, Zahraa El Maadi, Hay El Maadi, Cairo',\n",
       "       'MU-23, Downtown Area, New Capital City, Cairo',\n",
       "       'Sky AD, New Capital Compounds, New Capital City, Cairo',\n",
       "       'Town Gate, New Capital Compounds, New Capital City, Cairo',\n",
       "       'Botanica, New Capital Compounds, New Capital City, Cairo',\n",
       "       'Sheraton Al Matar, El Nozha, Cairo',\n",
       "       'Al Andalus District, New Cairo City, Cairo',\n",
       "       'Downtown Area, New Capital City, Cairo',\n",
       "       'Grand Cesar, South Investors Area, New Cairo City, Cairo',\n",
       "       'Trablous St., 6th Zone, Nasr City, Cairo',\n",
       "       'Al masrawya, South Investors Area, New Cairo City, Cairo',\n",
       "       'Rayhan Villas, Ext North Inves Area, New Cairo City, Cairo',\n",
       "       'Kinda, 5th Settlement Compounds, The 5th Settlement, New Cairo City, Cairo',\n",
       "       'Shams Al Din Al Zahaby St., Ard El Golf, Heliopolis - Masr El Gedida, Cairo',\n",
       "       'Manshiet El Tayaran St., Roxy, Heliopolis - Masr El Gedida, Cairo',\n",
       "       'Gamal Abdel Nasser Road, Shorouk City, Cairo',\n",
       "       'El Sharbatly, The 5th Settlement, New Cairo City, Cairo',\n",
       "       'Tijan, Zahraa El Maadi, Hay El Maadi, Cairo',\n",
       "       'Hassan Sadek St., El Korba, Heliopolis - Masr El Gedida, Cairo',\n",
       "       'Paradise, Ext North Inves Area, New Cairo City, Cairo',\n",
       "       'Street 1, Sheraton Al Matar, El Nozha, Cairo',\n",
       "       'El Banafseg 4, El Banafseg, New Cairo City, Cairo',\n",
       "       'Ali Ibn Abi Taleb   Service St., Rehab City Fifth Phase, Al Rehab, New Cairo City, Cairo',\n",
       "       'Hay El Maadi, Cairo', 'New Cairo City, Cairo',\n",
       "       'Sakan, Ext North Inves Area, New Cairo City, Cairo',\n",
       "       'La Fontaine Province, 5th Settlement Compounds, The 5th Settlement, New Cairo City, Cairo',\n",
       "       'Beverly Hills, El Shorouk Compounds, Shorouk City, Cairo',\n",
       "       'El Yasmeen 2, El Yasmeen, New Cairo City, Cairo',\n",
       "       'El Banafseg 8, El Banafseg, New Cairo City, Cairo',\n",
       "       'District 2, The 5th Settlement, New Cairo City, Cairo',\n",
       "       'Street 28, District 4, The 5th Settlement, New Cairo City, Cairo',\n",
       "       'Zakaria Ahmed St., El Banafseg 5, El Banafseg, New Cairo City, Cairo',\n",
       "       'Al Shouyfat St., District 1, The 5th Settlement, New Cairo City, Cairo',\n",
       "       'Mena Residence, South Investors Area, New Cairo City, Cairo',\n",
       "       'Al Orouba St., El Korba, Heliopolis - Masr El Gedida, Cairo',\n",
       "       'Al Shaheed Ismail Fahmy St., Almazah, Heliopolis - Masr El Gedida, Cairo',\n",
       "       'El Nakheel, 5th Settlement Compounds, The 5th Settlement, New Cairo City, Cairo',\n",
       "       'Al Nozha St., Ard El Golf, Heliopolis - Masr El Gedida, Cairo',\n",
       "       'Al Manial St., El Manial, Hay El Manial, Cairo',\n",
       "       '10th Sector, Zahraa El Maadi, Hay El Maadi, Cairo',\n",
       "       '3rd Neighborhood, 3rd Area, Shorouk City, Cairo',\n",
       "       'Cornish El Nile St., Bulaq Abo El Ela, Cairo',\n",
       "       'The MarQ, 5th Settlement Compounds, The 5th Settlement, New Cairo City, Cairo',\n",
       "       '4th Neighborhood, 2nd Area, Shorouk City, Cairo',\n",
       "       'Orouba Axis, Area A, Ganoob El Acadimia, New Cairo City, Cairo',\n",
       "       'Omar Shaaban St., Ard El Golf, Heliopolis - Masr El Gedida, Cairo',\n",
       "       'Farouk Goweda St., Rehab City First Phase, Al Rehab, New Cairo City, Cairo',\n",
       "       '1st District, New Heliopolis, Cairo',\n",
       "       'Al Rehab, New Cairo City, Cairo',\n",
       "       'Zahraa El Maadi, Hay El Maadi, Cairo',\n",
       "       'Baron School Street, Al Hadaba Al Wosta, Mokattam, Cairo',\n",
       "       '3rd Neighborhood, 3rd District West, Shorouk City, Cairo',\n",
       "       'Al Gezira El Wosta St. (Yousef Kamel), Zamalek, Cairo',\n",
       "       '1st Neighborhood, 8th Area, Shorouk City, Cairo',\n",
       "       'Ibn Al Nafees St., Rehab City Fifth Phase, Al Rehab, New Cairo City, Cairo',\n",
       "       'Al Batal Mohamed Abdel Atti Atteya St., Al Narges 5, Al Narges, New Cairo City, Cairo',\n",
       "       'Al Andalus Buildings, Al Andalus District, New Cairo City, Cairo',\n",
       "       'il Mondo, New Capital Compounds, New Capital City, Cairo',\n",
       "       'Doctor Ali Mosharafa St., Al Narges 6, Al Narges, New Cairo City, Cairo',\n",
       "       '2nd Neighborhood, 8th Area, Shorouk City, Cairo',\n",
       "       '6th Area East, Shorouk City, Cairo',\n",
       "       'Street 33, District 1, The 5th Settlement, New Cairo City, Cairo',\n",
       "       'Reyna, Uptown Cairo, Mokattam, Cairo',\n",
       "       'Al Horeya St., Almazah, Heliopolis - Masr El Gedida, Cairo',\n",
       "       'Abou Al Feda St., Zamalek, Cairo',\n",
       "       'Al Hayah Residence, 3rd District West, Shorouk City, Cairo',\n",
       "       'Zizinia St., South Investors Area, New Cairo City, Cairo',\n",
       "       'Aster Compound, 5th Settlement Compounds, The 5th Settlement, New Cairo City, Cairo',\n",
       "       'M Square Gardens, 5th Settlement Compounds, The 5th Settlement, New Cairo City, Cairo',\n",
       "       'Korbrinta, 5th District, New Heliopolis, Cairo',\n",
       "       'Divina Gardens, 3rd District West, Shorouk City, Cairo',\n",
       "       'Andalus Al Shorouk, 5th District, Shorouk City, Cairo',\n",
       "       'Street 250, Degla, Hay El Maadi, Cairo',\n",
       "       'Ring Road, Zahraa El Maadi, Hay El Maadi, Cairo',\n",
       "       'Street 1, District 1, The 5th Settlement, New Cairo City, Cairo',\n",
       "       'Mirage Residence, The 1st Settlement, New Cairo City, Cairo',\n",
       "       'Abdel Moneim Al Behery St., El Nozha El Gadida, El Nozha, Cairo',\n",
       "       'Mohamed Fawzi St., Al Narges 7, Al Narges, New Cairo City, Cairo',\n",
       "       'I business park, Downtown Area, New Capital City, Cairo',\n",
       "       'Al Gabalaya St., Zamalek, Cairo',\n",
       "       'Al Haya, Ext North Inves Area, New Cairo City, Cairo',\n",
       "       'Serrano, New Capital Compounds, New Capital City, Cairo',\n",
       "       'Ocean Blue Heliopolis, Sheraton Al Matar, El Nozha, Cairo',\n",
       "       'Street 199, Degla, Hay El Maadi, Cairo',\n",
       "       'Al Sahaba Al Keram St., Al Sefarat District, Nasr City, Cairo',\n",
       "       'Leena Springs, Ext North Inves Area, New Cairo City, Cairo',\n",
       "       'Jaber Ibn Hayan St., Rehab City Sixth Phase, Al Rehab, New Cairo City, Cairo',\n",
       "       'Ramsis St., El Korba, Heliopolis - Masr El Gedida, Cairo',\n",
       "       'El Shaheed Musaed Rashad St., El Yasmeen 7, El Yasmeen, New Cairo City, Cairo',\n",
       "       'The Villa, El Katameya Compounds, El Katameya, New Cairo City, Cairo',\n",
       "       'Al Sheikh Taha Al Dinary St., Al Hadiqah Al Dawliyah, 7th District, Nasr City, Cairo',\n",
       "       'El Yasmeen 6, El Yasmeen, New Cairo City, Cairo',\n",
       "       'Mohamed Metwally Al Sharawy St., Sheraton Al Matar, El Nozha, Cairo',\n",
       "       'Alto, Uptown Cairo, Mokattam, Cairo',\n",
       "       'Promenade New Cairo, 5th Settlement Compounds, The 5th Settlement, New Cairo City, Cairo',\n",
       "       'Sunrise, South Investors Area, New Cairo City, Cairo',\n",
       "       'Aswar Residence, 5th Settlement Compounds, The 5th Settlement, New Cairo City, Cairo',\n",
       "       'Al Kamel Mohamed St., Zamalek, Cairo',\n",
       "       'Omar Khorshid St., El Banafseg 10, El Banafseg, New Cairo City, Cairo',\n",
       "       'Ahmed Al Zomor St., 10th District, Nasr City, Cairo',\n",
       "       'Zoheira Abdeen St., El Yasmeen 5, El Yasmeen, New Cairo City, Cairo',\n",
       "       'Al Narges 3, Al Narges, New Cairo City, Cairo',\n",
       "       'Emtedad Sharea 200, Degla, Hay El Maadi, Cairo',\n",
       "       'Street 32, District 5, The 5th Settlement, New Cairo City, Cairo',\n",
       "       'Street 2, District 1, The 5th Settlement, New Cairo City, Cairo',\n",
       "       'Mohamed Ahmed Ibrahim St., 8th Zone, Nasr City, Cairo',\n",
       "       'Abd Al Hamid Awad St., 6th Zone, Nasr City, Cairo',\n",
       "       'Al Shaheed Mohamed El Sheemy St., El Banafseg 8, El Banafseg, New Cairo City, Cairo',\n",
       "       'Mostafa Al Nahas St., 6th Zone, Nasr City, Cairo',\n",
       "       'Katameya Residence, The 1st Settlement, New Cairo City, Cairo',\n",
       "       'Street 207, Degla, Hay El Maadi, Cairo',\n",
       "       'Street 262, New Maadi, Hay El Maadi, Cairo',\n",
       "       'Dr Abdallah Al Araby St., 7th District, Nasr City, Cairo',\n",
       "       'Taha Hussein St., Rehab City First Phase, Al Rehab, New Cairo City, Cairo',\n",
       "       'Fountain Park, 5th Settlement Compounds, The 5th Settlement, New Cairo City, Cairo',\n",
       "       'The Water Way, North Investors Area, New Cairo City, Cairo',\n",
       "       'La Terra, South Investors Area, New Cairo City, Cairo',\n",
       "       'Riviera heights, 5th Settlement Compounds, The 5th Settlement, New Cairo City, Cairo',\n",
       "       'Sayed Zakaria St., Sheraton Al Matar, El Nozha, Cairo',\n",
       "       'Nehro St., Roxy, Heliopolis - Masr El Gedida, Cairo',\n",
       "       'Street15, District 4, The 5th Settlement, New Cairo City, Cairo',\n",
       "       'Moez Al Dawla St., 6th Zone, Nasr City, Cairo',\n",
       "       'Ammar Ibn Yasser St., El Hegaz Square, El Nozha, Cairo',\n",
       "       'Akoya, 5th Settlement Compounds, The 5th Settlement, New Cairo City, Cairo',\n",
       "       'Badr Khan Ali St., Al Narges 1, Al Narges, New Cairo City, Cairo',\n",
       "       'Africa   Emtedad Mostafa Al Nahas St., Al Nadi Al Ahly, Nasr City, Cairo',\n",
       "       'Omar Ibn Al Khattab St., El Mearag City, Zahraa El Maadi, Hay El Maadi, Cairo',\n",
       "       'Al Nasr Road, 6th Zone, Nasr City, Cairo',\n",
       "       'Zizinia Rose, Ext North Inves Area, New Cairo City, Cairo',\n",
       "       'Al Mosheer Tantawy Axis, 10th District, Nasr City, Cairo',\n",
       "       'Street 72, Hadayek El Maadi, Hay El Maadi, Cairo',\n",
       "       'Al Hegaz St., El Mahkama Square, Heliopolis - Masr El Gedida, Cairo',\n",
       "       'Tunis St., New Maadi, Hay El Maadi, Cairo',\n",
       "       'Free Zone St., Al Wafa Wa Al Amal, Nasr City, Cairo',\n",
       "       'Capital Heights, New Capital Compounds, New Capital City, Cairo',\n",
       "       'Street 220, Degla, Hay El Maadi, Cairo',\n",
       "       'Arabeya, South Investors Area, New Cairo City, Cairo',\n",
       "       'Ibn Rushd St., Rehab City Fifth Phase, Al Rehab, New Cairo City, Cairo',\n",
       "       'Degla Square, Degla, Hay El Maadi, Cairo',\n",
       "       'Mohamed Naguib Axis, Abou El Houl, New Cairo City, Cairo',\n",
       "       'Street In Concord village, South Investors Area, New Cairo City, Cairo',\n",
       "       'Mohamed Sakr Khafaga St., 1st Zone, Nasr City, Cairo',\n",
       "       'East The Academy, New Cairo City, Cairo',\n",
       "       'Nabil Al Wakkad St., Ard El Golf, Heliopolis - Masr El Gedida, Cairo',\n",
       "       'Al Nasr Rd, Sheraton Al Matar, El Nozha, Cairo',\n",
       "       'Entrada, New Capital Compounds, New Capital City, Cairo',\n",
       "       'Al Shaimaa St., Area F, Ganoob El Acadimia, New Cairo City, Cairo',\n",
       "       'Tawfik Al Hakim St., Rehab City First Phase, Al Rehab, New Cairo City, Cairo',\n",
       "       'Mostafa Al Nahas St., Rehab City Forth Phase, Al Rehab, New Cairo City, Cairo',\n",
       "       'Street 276, New Maadi, Hay El Maadi, Cairo',\n",
       "       'Street 206, Degla, Hay El Maadi, Cairo',\n",
       "       'Alba Spendia, Uptown Cairo, Mokattam, Cairo',\n",
       "       'Al Zaytoun Station St., Hadayek El Zaytoun, El Zaytoun, Hay El Zaytoun, Cairo',\n",
       "       'Catalan, New Capital Compounds, New Capital City, Cairo',\n",
       "       'Saad Zaghloul St., Rehab City Forth Phase, Al Rehab, New Cairo City, Cairo',\n",
       "       'El Khalifa El Maamoun St., Roxy, Heliopolis - Masr El Gedida, Cairo',\n",
       "       'Lago Vista, North Investors Area, New Cairo City, Cairo',\n",
       "       'Ahmed Fakhry St., 6th Zone, Nasr City, Cairo',\n",
       "       'Street53, District 1, The 5th Settlement, New Cairo City, Cairo',\n",
       "       'Dr Ismail Wahbi St., 10th Zone, Nasr City, Cairo',\n",
       "       'Eshak Yaekoob St., Almazah, Heliopolis - Masr El Gedida, Cairo',\n",
       "       'Golf Side, Uptown Cairo, Mokattam, Cairo',\n",
       "       'Abdel Halim Hafez St., El Banafseg 8, El Banafseg, New Cairo City, Cairo',\n",
       "       'Aljazi Marriott Residences, Mohamed Naguib Axis, North Investors Area, New Cairo City, Cairo',\n",
       "       'Abbas Al Akkad St., 1st Zone, Nasr City, Cairo',\n",
       "       'Mahmoud Ghoneim St., 6th Zone, Nasr City, Cairo',\n",
       "       'Al Zamalek St., Berket an Nasr, El Herafeen, Al Salam City, Cairo',\n",
       "       '1st Settlement Post office St., The 1st Settlement, New Cairo City, Cairo',\n",
       "       'Om Kalthoum St., Rehab City Third Phase, Al Rehab, New Cairo City, Cairo',\n",
       "       'River Walk, North Investors Area, New Cairo City, Cairo',\n",
       "       'Street 44, District 3, The 5th Settlement, New Cairo City, Cairo',\n",
       "       'Sephora Heights, 5th Settlement Compounds, The 5th Settlement, New Cairo City, Cairo',\n",
       "       'Al Naser Salah El Deen St., Rehab City Second Phase, Al Rehab, New Cairo City, Cairo',\n",
       "       'Tamr Hena, 5th Settlement Compounds, The 5th Settlement, New Cairo City, Cairo',\n",
       "       'Durrat Al Qahira, North Investors Area, New Cairo City, Cairo',\n",
       "       'Mohamed Hassanein Heikal St., 6th Zone, Nasr City, Cairo',\n",
       "       'Aly Sharawy St., Al Narges 5, Al Narges, New Cairo City, Cairo',\n",
       "       'Katameya Breeze, Ext North Inves Area, New Cairo City, Cairo',\n",
       "       'Africa   Emtedad Moustafa Al Nahas, 10th Zone, Nasr City, Cairo',\n",
       "       'Nile Corniche St., Garden City, Cairo',\n",
       "       'Bleu Vert, New Capital Compounds, New Capital City, Cairo',\n",
       "       'Al Haytham mosque, South Investors Area, New Cairo City, Cairo',\n",
       "       'The City Valley, New Capital Compounds, New Capital City, Cairo',\n",
       "       'Badr El Masria, 3rd District, Badr City, Cairo',\n",
       "       'Nasr Ahmed Zaki St., 1st Zone, Nasr City, Cairo',\n",
       "       'Madinet Al Sahafeyeen, North Investors Area, New Cairo City, Cairo',\n",
       "       'Suez Road, New Cairo City, Cairo',\n",
       "       'Le Reve, El Katameya Compounds, El Katameya, New Cairo City, Cairo',\n",
       "       'Maadi Station Square, Maadi, Hay El Maadi, Cairo',\n",
       "       'Street2, District 2, The 5th Settlement, New Cairo City, Cairo',\n",
       "       'Samir Abdel Raouf St., 8th Zone, Nasr City, Cairo',\n",
       "       'Naguib Mahfouz Axis, The 1st Settlement, New Cairo City, Cairo',\n",
       "       'Royal Lagoon, North Investors Area, New Cairo City, Cairo',\n",
       "       'Mostafa Kamel St., Rehab City Forth Phase, Al Rehab, New Cairo City, Cairo',\n",
       "       'Moez Al Dawla St., El Banafseg 6, El Banafseg, New Cairo City, Cairo',\n",
       "       '5th Neighborhood, 3rd District East, Shorouk City, Cairo',\n",
       "       '5A by The Waterway, Ring Road, The 5th Settlement, New Cairo City, Cairo',\n",
       "       'Street 208, Degla, Hay El Maadi, Cairo',\n",
       "       'Al Thawra Tunnel, Almazah, Heliopolis - Masr El Gedida, Cairo',\n",
       "       'Ahmed Bin Hanbal St., Rehab City First Phase, Al Rehab, New Cairo City, Cairo',\n",
       "       'Mohammed Farid Axis, District 4, The 5th Settlement, New Cairo City, Cairo',\n",
       "       'Al Imam Zain Al Abdeen St., El Banafseg 9, El Banafseg, New Cairo City, Cairo',\n",
       "       'Casa Verde, North Investors Area, New Cairo City, Cairo',\n",
       "       'Farid Al Atrash St., The 1st Settlement, New Cairo City, Cairo',\n",
       "       'Abd Al Aziz Fahmy St., Heliopolis Square, El Nozha, Cairo',\n",
       "       'El Shaheed Mostafa Riad St., 1st Zone, Nasr City, Cairo',\n",
       "       'Al Taqa St.   Mohamed Mostafa Al Sayed, Al Nadi Al Ahly, Nasr City, Cairo',\n",
       "       'Al Laselky St., El Laselky, New Maadi, Hay El Maadi, Cairo',\n",
       "       'Safeer Square, Almazah, Heliopolis - Masr El Gedida, Cairo',\n",
       "       'Hayati Residence, North Investors Area, New Cairo City, Cairo',\n",
       "       'Kabol St., 6th Zone, Nasr City, Cairo',\n",
       "       'Korba Heights, 5th District, New Heliopolis, Cairo',\n",
       "       'Floria, New Capital Compounds, New Capital City, Cairo',\n",
       "       'Rahim Square, El Yasmeen 7, El Yasmeen, New Cairo City, Cairo',\n",
       "       'Ibn Al Haitham St., 1st Zone, Nasr City, Cairo',\n",
       "       'Ahmed Al Zomor St., 8th Zone, Nasr City, Cairo',\n",
       "       'Taher Abo Fasha St., Rehab City First Phase, Al Rehab, New Cairo City, Cairo',\n",
       "       'Alba Aliyah, Uptown Cairo, Mokattam, Cairo',\n",
       "       'Othman Ibn Affan St., Rehab City Sixth Phase, Al Rehab, New Cairo City, Cairo',\n",
       "       'Neopolis   Wadi Degla, Mostakbal City Compounds, Mostakbal City - Future City, Cairo',\n",
       "       'Abd Al Sattar Diab St., 8th Zone, Nasr City, Cairo',\n",
       "       'Street 21, District 5, The 5th Settlement, New Cairo City, Cairo',\n",
       "       'Smart Life, South Investors Area, New Cairo City, Cairo',\n",
       "       'Helmy Hassan Ali St., 8th Zone, Nasr City, Cairo',\n",
       "       'Park Corner, 5th Settlement Compounds, The 5th Settlement, New Cairo City, Cairo',\n",
       "       'Ibrahim Nagy St., Rehab City First Phase, Al Rehab, New Cairo City, Cairo',\n",
       "       'Street 52, Neighborhood K, 2nd District West, Shorouk City, Cairo',\n",
       "       'Grand City, Zahraa El Maadi, Hay El Maadi, Cairo',\n",
       "       'Shams Al Din Al Kofi St., Heliopolis Square, El Nozha, Cairo',\n",
       "       'Taha Hussein Axia, District 4, The 5th Settlement, New Cairo City, Cairo',\n",
       "       'Othmman Ibn Affan St., Rehab City Fifth Phase, Al Rehab, New Cairo City, Cairo',\n",
       "       'Mohamed Eissa St., Heliopolis Square, El Nozha, Cairo',\n",
       "       'Al Merghany St., Ard El Golf, Heliopolis - Masr El Gedida, Cairo',\n",
       "       'The Water MarQ, South Teseen St., The 5th Settlement, New Cairo City, Cairo',\n",
       "       'Al Sheikh Selim El Beshry St., El Banafseg 6, El Banafseg, New Cairo City, Cairo',\n",
       "       'Street 213, Degla, Hay El Maadi, Cairo',\n",
       "       'Al Magd St., Roxy, Heliopolis - Masr El Gedida, Cairo',\n",
       "       'Fifth Sector, Zahraa El Maadi, Hay El Maadi, Cairo',\n",
       "       'El Maram Land Mark, 5th Settlement Compounds, The 5th Settlement, New Cairo City, Cairo',\n",
       "       'One Kattameya, El Katameya Compounds, El Katameya, New Cairo City, Cairo',\n",
       "       'Nagib Al Rehani St., Rehab City Third Phase, Al Rehab, New Cairo City, Cairo',\n",
       "       'Concord Plaza, South Investors Area, New Cairo City, Cairo',\n",
       "       'La Quinta, North Investors Area, New Cairo City, Cairo',\n",
       "       'Street 50, District 1, The 5th Settlement, New Cairo City, Cairo',\n",
       "       'Street 12, District 1, The 5th Settlement, New Cairo City, Cairo',\n",
       "       'Fatma Al Sharbatly Mosque, District 3, The 5th Settlement, New Cairo City, Cairo',\n",
       "       'Street 7, 2nd Neighborhood, 8th District, Shorouk City, Cairo',\n",
       "       'Omar Ibn Al Khattab St., Rehab City Forth Phase, Al Rehab, New Cairo City, Cairo',\n",
       "       'Almaza St., Almazah, Heliopolis - Masr El Gedida, Cairo',\n",
       "       'Gold Yard, Sheraton Al Matar, El Nozha, Cairo',\n",
       "       'Bright City, 5th Settlement Compounds, The 5th Settlement, New Cairo City, Cairo',\n",
       "       'Bahaa Eldeen Krakoush St., Zamalek, Cairo',\n",
       "       'Al Sayed Al Marghany St., Almazah, Heliopolis - Masr El Gedida, Cairo',\n",
       "       'Al Waha St., 4th Neighborhood, 3rd District West, Shorouk City, Cairo',\n",
       "       'Zizinia Gardens, Ext North Inves Area, New Cairo City, Cairo',\n",
       "       '11th Neighborhood, 3rd District East, Shorouk City, Cairo',\n",
       "       'Darna, Zahraa El Maadi, Hay El Maadi, Cairo',\n",
       "       '1st Neighborhood, 2nd District East, Shorouk City, Cairo',\n",
       "       'Mohamed Mandour St., 1st Zone, Nasr City, Cairo',\n",
       "       'Street 204, Degla, Hay El Maadi, Cairo',\n",
       "       'Talaat Harb Axis, District 2, The 5th Settlement, New Cairo City, Cairo',\n",
       "       'Mohamed Farid St., El Hegaz Square, El Nozha, Cairo',\n",
       "       'Al Hegaz St., Roxy, Heliopolis - Masr El Gedida, Cairo',\n",
       "       'Mohamed Farid St., Rehab City Forth Phase, Al Rehab, New Cairo City, Cairo',\n",
       "       'La Mirada El Mostakbal, Mostakbal City Compounds, Mostakbal City - Future City, Cairo',\n",
       "       '1st Neighborhood, 1st District East, Shorouk City, Cairo',\n",
       "       'New Maryland, 5th Settlement Compounds, The 5th Settlement, New Cairo City, Cairo',\n",
       "       'Sarayat El-Kattameya, El Katameya Compounds, El Katameya, New Cairo City, Cairo',\n",
       "       'South Youth Housing, The 1st Settlement, New Cairo City, Cairo',\n",
       "       'Mohammed Al Maqref St., 6th Zone, Nasr City, Cairo',\n",
       "       'Leila, North Investors Area, New Cairo City, Cairo',\n",
       "       'Sunset, North Investors Area, New Cairo City, Cairo',\n",
       "       'Landmark Village, Ext North Inves Area, New Cairo City, Cairo',\n",
       "       'Al Guezira Green Park, South Investors Area, New Cairo City, Cairo',\n",
       "       'Ghenya St., Roxy, Heliopolis - Masr El Gedida, Cairo',\n",
       "       'Golf City, 5th Settlement Compounds, The 5th Settlement, New Cairo City, Cairo',\n",
       "       'Street 22, 2nd Neighborhood, 7th District, Shorouk City, Cairo',\n",
       "       'El-Qobba, Hadayek El Kobba, Cairo', 'Maadi, Hay El Maadi, Cairo',\n",
       "       'South Investors Area, New Cairo City, Cairo',\n",
       "       'Ard El Golf, Heliopolis - Masr El Gedida, Cairo',\n",
       "       '3rd Neighborhood, 1st District East, Shorouk City, Cairo',\n",
       "       'Oasis District, Shorouk City, Cairo',\n",
       "       'Fareed Semeika St., El Hegaz Square, El Nozha, Cairo',\n",
       "       'Al Orouba St., Almazah, Heliopolis - Masr El Gedida, Cairo',\n",
       "       'Ahmed Al Zomor St., 9th Zone, Nasr City, Cairo',\n",
       "       'Abou Dawoud Al Zahery St., 6th Zone, Nasr City, Cairo',\n",
       "       'Al Nakheel, El Shorouk Compounds, Shorouk City, Cairo',\n",
       "       'Cairo - Ismailia Desert Road, Cairo',\n",
       "       'South Teseen St., The 5th Settlement, New Cairo City, Cairo',\n",
       "       'El Yasmeen 7, El Yasmeen, New Cairo City, Cairo',\n",
       "       'Ramatan, New Capital Compounds, New Capital City, Cairo',\n",
       "       'The 1st Settlement, New Cairo City, Cairo',\n",
       "       'El Banafseg, New Cairo City, Cairo',\n",
       "       'El Yasmeen, New Cairo City, Cairo',\n",
       "       'Al Narges, New Cairo City, Cairo',\n",
       "       'Ganoob El Acadimia, New Cairo City, Cairo',\n",
       "       '7th District, Nasr City, Cairo',\n",
       "       'Almazah, Heliopolis - Masr El Gedida, Cairo',\n",
       "       'New Maadi, Hay El Maadi, Cairo',\n",
       "       'El Shorouk Compounds, Shorouk City, Cairo',\n",
       "       'Mohamed Refaat St., El Nozha El Gadida, El Nozha, Cairo',\n",
       "       'Rayhana Residence, Zahraa El Maadi, Hay El Maadi, Cairo',\n",
       "       'Primera, Nasr City Compounds, Nasr City, Cairo',\n",
       "       'Ibn Sina St., El Ismailia Square, Heliopolis - Masr El Gedida, Cairo',\n",
       "       'Street 260, New Maadi, Hay El Maadi, Cairo', 'El Nozha, Cairo',\n",
       "       'Jolie Heights, 5th Settlement Compounds, The 5th Settlement, New Cairo City, Cairo',\n",
       "       '6th Neighborhood, 9th Area, Shorouk City, Cairo',\n",
       "       'Yehia Ibrahim St., Zamalek, Cairo',\n",
       "       'Street 6, Maadi, Hay El Maadi, Cairo',\n",
       "       'Wadi Degla St., 3rd Sector, Zahraa El Maadi, Hay El Maadi, Cairo',\n",
       "       'Street 20, 2nd Neighborhood, 1st District West, Shorouk City, Cairo',\n",
       "       'Street 1, District 3, The 5th Settlement, New Cairo City, Cairo',\n",
       "       'Palm City, El Katameya Compounds, El Katameya, New Cairo City, Cairo',\n",
       "       'Étoile De Ville, 5th Settlement Compounds, The 5th Settlement, New Cairo City, Cairo',\n",
       "       'Street 15, Maadi, Hay El Maadi, Cairo',\n",
       "       'Al Adel Abu Bakr St., Zamalek, Cairo',\n",
       "       'Street 35, District 4, The 5th Settlement, New Cairo City, Cairo',\n",
       "       'Mohamed Zerd St., Area E, Ganoob El Acadimia, New Cairo City, Cairo',\n",
       "       'Leila Mourad St., El Yasmeen 5, El Yasmeen, New Cairo City, Cairo',\n",
       "       'Abd Al Aziz Aal Seoud St., El Manial, Hay El Manial, Cairo',\n",
       "       '3rd Neighborhood, 1st District West, Shorouk City, Cairo',\n",
       "       'Shagaret Al Dor St., Zamalek, Cairo',\n",
       "       'El Banafseg 7, El Banafseg, New Cairo City, Cairo',\n",
       "       'El Banafseg 5, El Banafseg, New Cairo City, Cairo',\n",
       "       'Trivium Business Complex, North Teseen St., The 5th Settlement, New Cairo City, Cairo',\n",
       "       'Soliman Mohammed Abaza St., El Hegaz Square, El Nozha, Cairo',\n",
       "       'Talaat Harb Axis, Al Narges, New Cairo City, Cairo',\n",
       "       'Sama Al Qahera, El Katameya Compounds, El Katameya, New Cairo City, Cairo',\n",
       "       'Al Sheikh Al Marsafi St., Zamalek, Cairo',\n",
       "       'Al Canal St., Maadi, Hay El Maadi, Cairo',\n",
       "       'Abdullah Deraz St., Ard El Golf, Heliopolis - Masr El Gedida, Cairo',\n",
       "       'El Manial, Hay El Manial, Cairo', 'Nasr St., Hay El Maadi, Cairo',\n",
       "       'Heliopolis Square, Heliopolis Square, El Nozha, Cairo',\n",
       "       'Al Hadiqah Al Dawliyah, 7th District, Nasr City, Cairo',\n",
       "       'Ahmed Hassan St., 9th Zone, Nasr City, Cairo', 'Nasr City, Cairo',\n",
       "       'Heliopolis - Masr El Gedida, Cairo',\n",
       "       'Samir Mokhtar St., Ard El Golf, Heliopolis - Masr El Gedida, Cairo',\n",
       "       'Omar Ibn Al Khattab St., Almazah, Heliopolis - Masr El Gedida, Cairo',\n",
       "       'Al Sheikh Abdullah Mosalamy St., El Banafseg 7, El Banafseg, New Cairo City, Cairo',\n",
       "       'Mostafa Helmy St., Almazah, Heliopolis - Masr El Gedida, Cairo',\n",
       "       'Masaken Zahraa Nasr City St., Zahraa Madinat Nasr, Nasr City, Cairo',\n",
       "       'Al Shaheed Mostafa Shams El Deen St., El Hegaz Square, El Nozha, Cairo',\n",
       "       'Youssef Abbas St., El Estad, Nasr City, Cairo',\n",
       "       'Porto Heliopolis, Almazah, Heliopolis - Masr El Gedida, Cairo',\n",
       "       'Hay Helwan, Cairo',\n",
       "       'Street Of Dreams, Uptown Cairo, Mokattam, Cairo',\n",
       "       'Ibn Al Haytham St., Rehab City Fifth Phase, Al Rehab, New Cairo City, Cairo',\n",
       "       'Mohammad Ghonaim St., Ard El Golf, Heliopolis - Masr El Gedida, Cairo',\n",
       "       'Feleb Hanna St., Almazah, Heliopolis - Masr El Gedida, Cairo',\n",
       "       'Street21, District 2, The 5th Settlement, New Cairo City, Cairo',\n",
       "       '2nd Neighborhood, 2nd District East, Shorouk City, Cairo',\n",
       "       'Hussein Riad St., Rehab City Third Phase, Al Rehab, New Cairo City, Cairo',\n",
       "       'Africa   Emtedad Moustafa Al Nahas, 9th Zone, Nasr City, Cairo',\n",
       "       'Acacia, 5th Settlement Compounds, The 5th Settlement, New Cairo City, Cairo',\n",
       "       'Salah Salem St., El Estad, Nasr City, Cairo',\n",
       "       'Mohamed Hassanein Heikal St., Rehab City First Phase, Al Rehab, New Cairo City, Cairo',\n",
       "       'Street 107, Hadayek El Maadi, Hay El Maadi, Cairo',\n",
       "       'Al Shaheed Islam Raafat St., The 1st Settlement, New Cairo City, Cairo',\n",
       "       'Al Higaz Square, El Hegaz Square, El Nozha, Cairo',\n",
       "       'Ahmed Al Rashidi St., Ard El Golf, Heliopolis - Masr El Gedida, Cairo',\n",
       "       'Aisha Al Taymorya St., Garden City, Cairo',\n",
       "       'Mostashareen, North Investors Area, New Cairo City, Cairo',\n",
       "       'Al Hassan St., Sheraton Al Matar, El Nozha, Cairo',\n",
       "       'Fawzi Al Motaee Basha St., El Ismailia Square, Heliopolis - Masr El Gedida, Cairo',\n",
       "       'El Motamayez District, Badr City, Cairo',\n",
       "       'Dr Al Batrawy St., 1st Zone, Nasr City, Cairo',\n",
       "       'Beirut St., Al Gamea Square, Heliopolis - Masr El Gedida, Cairo',\n",
       "       'Mansheya El Bakry St., Mansheya El Bakry, Heliopolis - Masr El Gedida, Cairo',\n",
       "       'Tag Al Din El Sobky St., Ard El Golf, Heliopolis - Masr El Gedida, Cairo',\n",
       "       'Abdel Moneim Sanad St., 1st Zone, Nasr City, Cairo',\n",
       "       'Ismail Mohamed St., Zamalek, Cairo',\n",
       "       'Mahmoud Al Sherif St., Rehab City Third Phase, Al Rehab, New Cairo City, Cairo',\n",
       "       'Thirteenth Sector, Zahraa El Maadi, Hay El Maadi, Cairo',\n",
       "       'Youssef Wahbi St., Rehab City Third Phase, Al Rehab, New Cairo City, Cairo',\n",
       "       'Mohamed Farid Abou Hadid St., Al Hadiqah Al Dawliyah, 7th District, Nasr City, Cairo',\n",
       "       'Al Mahrouki St., Ard El Golf, Heliopolis - Masr El Gedida, Cairo',\n",
       "       '3rd Neighborhood, 8th Area, Shorouk City, Cairo',\n",
       "       'Ibn Al Qayyim St., Rehab City Sixth Phase, Al Rehab, New Cairo City, Cairo',\n",
       "       'Ibn Al Nafis St., 6th Zone, Nasr City, Cairo',\n",
       "       'Street 11, 1st Neighborhood, 7th District, Shorouk City, Cairo',\n",
       "       'Al Sheikh El Bagoury St., El Banafseg 9, El Banafseg, New Cairo City, Cairo',\n",
       "       'Abd Al Hamid Badawy St., El Hegaz Square, El Nozha, Cairo',\n",
       "       'Talaat Mostafa St., Rehab City Fifth Phase, Al Rehab, New Cairo City, Cairo',\n",
       "       'Al Mosheer Ahmed Ismail St, Sheraton Al Matar, El Nozha, Cairo',\n",
       "       'Lozaka St., 6th Zone, Nasr City, Cairo',\n",
       "       'Ali Tawfik Shousha St., 1st Zone, Nasr City, Cairo',\n",
       "       'Al Tagnid Bridge, Al Tagned Square, Heliopolis - Masr El Gedida, Cairo',\n",
       "       'Al Andalus St., Roxy, Heliopolis - Masr El Gedida, Cairo',\n",
       "       'Salah Salem St., Roxy, Heliopolis - Masr El Gedida, Cairo',\n",
       "       'Green Avenue, New Capital Compounds, New Capital City, Cairo',\n",
       "       'Street 15, District 3, The 5th Settlement, New Cairo City, Cairo',\n",
       "       'Street 9, Maadi, Hay El Maadi, Cairo',\n",
       "       'Street 256, Maadi, Hay El Maadi, Cairo',\n",
       "       'Shubra St., Shobra, Hay Shobra, Cairo',\n",
       "       'Abdel Razek Al Sanhouri St., 6th Zone, Nasr City, Cairo',\n",
       "       '1st Neighborhood, 4th District West, Shorouk City, Cairo',\n",
       "       'Street 200, Degla, Hay El Maadi, Cairo',\n",
       "       'Al Nozha Bridge, Almazah, Heliopolis - Masr El Gedida, Cairo',\n",
       "       'Emad Hamdy St., Rehab City Third Phase, Al Rehab, New Cairo City, Cairo',\n",
       "       'Omar Ibn Al Khattab St., Al Sefarat District, Nasr City, Cairo',\n",
       "       'Ibn Khaldoun St., Rehab City Sixth Phase, Al Rehab, New Cairo City, Cairo',\n",
       "       'Ring Road, Al Hadaba Al Wosta, Mokattam, Cairo',\n",
       "       'Abdel Hamid Badawy St., Sheraton Al Matar, El Nozha, Cairo',\n",
       "       'Farag Al Sanhoury St., El Nozha El Gadida, El Nozha, Cairo',\n",
       "       'Ahmed Farid St., Heliopolis Square, El Nozha, Cairo',\n",
       "       'Al Montaza St., El Hegaz Square, El Nozha, Cairo',\n",
       "       '3rd Neighborhood, 3rd District East, Shorouk City, Cairo',\n",
       "       'Ahmed Zaki St., El Nozha El Gadida, El Nozha, Cairo',\n",
       "       'Ahmed Sabry St., Zamalek, Cairo',\n",
       "       'Nakhla El Motei St., Triumph Square, El Nozha, Cairo',\n",
       "       'Ibn Al Nafis St., Rehab City Sixth Phase, Al Rehab, New Cairo City, Cairo',\n",
       "       'Ganet Al Shorouk, 5th District, Shorouk City, Cairo',\n",
       "       '77 Mohamed Farid Axis, District 4, The 5th Settlement, New Cairo City, Cairo',\n",
       "       'Al Sheikh Ahmed Elsawy St., 6th Zone, Nasr City, Cairo',\n",
       "       'Al Amal St., Triumph Square, El Nozha, Cairo',\n",
       "       'Nazih Khalifa St., El Korba, Heliopolis - Masr El Gedida, Cairo',\n",
       "       'Al Badeya St., Almazah, Heliopolis - Masr El Gedida, Cairo',\n",
       "       'Street 66, District 2, The 5th Settlement, New Cairo City, Cairo',\n",
       "       'Al Mokattam El Katameya Road, Al Hadaba Al Wosta, Mokattam, Cairo',\n",
       "       'Kobry Al Merghany, Ard El Golf, Heliopolis - Masr El Gedida, Cairo',\n",
       "       'Ahmed Hassan St., 10th Zone, Nasr City, Cairo',\n",
       "       'Mostafa Al Bardai St., El Yasmeen 7, El Yasmeen, New Cairo City, Cairo',\n",
       "       'Ashgar Darna, Zahraa El Maadi, Hay El Maadi, Cairo',\n",
       "       'Corniche St., El Mearag City, Zahraa El Maadi, Hay El Maadi, Cairo',\n",
       "       'Street3, District 4, The 5th Settlement, New Cairo City, Cairo',\n",
       "       'Ahmed Qasim Gewida St., 1st Zone, Nasr City, Cairo',\n",
       "       'Abdo Basha Number 10 St., Abbasia, Cairo',\n",
       "       'Omarat Al Madfaaia St., Masaken Al Mohandesin, Nasr City, Cairo',\n",
       "       'Anwar Al Mufti St., 1st Zone, Nasr City, Cairo',\n",
       "       'Al Sawaf St., 9th Zone, Nasr City, Cairo',\n",
       "       'Kamel Al Kilani St., Rehab City First Phase, Al Rehab, New Cairo City, Cairo',\n",
       "       'Saeed Zakaria St., Al Sefarat District, Nasr City, Cairo',\n",
       "       'Hesham Labib St., 8th Zone, Nasr City, Cairo',\n",
       "       'Ibn Al Rumi St., Al Hadiqah Al Dawliyah, 7th District, Nasr City, Cairo',\n",
       "       'Sakaliya St., 6th Zone, Nasr City, Cairo',\n",
       "       'Mostafa Lotfi Al Manfalouti St., Rehab City First Phase, Al Rehab, New Cairo City, Cairo',\n",
       "       'Abdelhakim Al Refaey St., 8th Zone, Nasr City, Cairo',\n",
       "       'Al Saada St., Roxy, Heliopolis - Masr El Gedida, Cairo',\n",
       "       'Dr Ibrahim Nagy St., 9th Zone, Nasr City, Cairo',\n",
       "       'Ali Amin St., 1st Zone, Nasr City, Cairo',\n",
       "       'Mohamed Youssef Moussa St., 1st Zone, Nasr City, Cairo',\n",
       "       'Asala, 5th Settlement Compounds, The 5th Settlement, New Cairo City, Cairo',\n",
       "       'Street 13, 1st Neighborhood, 8th District, Shorouk City, Cairo',\n",
       "       'Al Thawra St., Almazah, Heliopolis - Masr El Gedida, Cairo',\n",
       "       'Rehab City Sixth Phase, Al Rehab, New Cairo City, Cairo',\n",
       "       'Rehab City Fifth Phase, Al Rehab, New Cairo City, Cairo',\n",
       "       '2nd District West, Shorouk City, Cairo',\n",
       "       'Group 64, 6th District, New Heliopolis, Cairo',\n",
       "       'El Mearag City, Zahraa El Maadi, Hay El Maadi, Cairo',\n",
       "       'Rehab City Third Phase, Al Rehab, New Cairo City, Cairo',\n",
       "       'Neighborhood B, 2nd District West, Shorouk City, Cairo',\n",
       "       'Street70, District 2, The 5th Settlement, New Cairo City, Cairo',\n",
       "       '4th Neighborhood, 5th Area, Shorouk City, Cairo',\n",
       "       'El Masria Royal, El Mearag City, Zahraa El Maadi, Hay El Maadi, Cairo',\n",
       "       'Al Zahawi St., 6th Zone, Nasr City, Cairo',\n",
       "       'Abaza St., El Mahkama Square, Heliopolis - Masr El Gedida, Cairo',\n",
       "       'Nagaty Serag St., 8th Zone, Nasr City, Cairo',\n",
       "       'Street 272, New Maadi, Hay El Maadi, Cairo',\n",
       "       'Heliopolis Residence, 3rd District West, Shorouk City, Cairo',\n",
       "       'Al Tayaran St., Rabaa Al Adaweyah, Nasr City, Cairo',\n",
       "       'Al Nasr Road, Rabaa Al Adaweyah, Nasr City, Cairo',\n",
       "       'Hassan Sabri St., Zamalek, Cairo',\n",
       "       'Kayetbai St., El Ismailia Square, Heliopolis - Masr El Gedida, Cairo',\n",
       "       'Al Maqrizi St., Roxy, Heliopolis - Masr El Gedida, Cairo',\n",
       "       'Armed Forces Buildings, Zahraa Madinat Nasr, Nasr City, Cairo',\n",
       "       'Wali Al Ahd St., Hadayek El Kobba, Cairo',\n",
       "       'Mohamed Al Makdessi St., Rehab City Sixth Phase, Al Rehab, New Cairo City, Cairo',\n",
       "       'Ali Al Gendy St., 6th Zone, Nasr City, Cairo',\n",
       "       'Moharam Shawqy St., El Korba, Heliopolis - Masr El Gedida, Cairo',\n",
       "       'Passage, District 5, The 5th Settlement, New Cairo City, Cairo',\n",
       "       '7th Neighborhood, 9th Area, Shorouk City, Cairo',\n",
       "       'Mohammed Sabri Abou Alam St., Abdeen, Cairo',\n",
       "       'Al Mohandes Khaled Abdel Aziz St., El Banafseg 10, El Banafseg, New Cairo City, Cairo',\n",
       "       'Street54, District 2, The 5th Settlement, New Cairo City, Cairo',\n",
       "       'Zuhair Sabry St., 1st Zone, Nasr City, Cairo',\n",
       "       'Degla Towers, Nasr City Compounds, Nasr City, Cairo',\n",
       "       'El Sayeda Zainab, Cairo', 'Downtown, Cairo',\n",
       "       'Rehab City Second Phase, Al Rehab, New Cairo City, Cairo'],\n",
       "      dtype=object)"
      ]
     },
     "execution_count": 11,
     "metadata": {},
     "output_type": "execute_result"
    }
   ],
   "source": [
    "df['location'].unique()"
   ]
  },
  {
   "cell_type": "markdown",
   "metadata": {},
   "source": [
    "fixing bedroom"
   ]
  },
  {
   "cell_type": "code",
   "execution_count": 12,
   "metadata": {},
   "outputs": [
    {
     "data": {
      "text/plain": [
       "array(['4', '3', '5', '2', '1', '7', '6', '8', 'Studio', '{0}'],\n",
       "      dtype=object)"
      ]
     },
     "execution_count": 12,
     "metadata": {},
     "output_type": "execute_result"
    }
   ],
   "source": [
    "df['bedroom'].unique()"
   ]
  },
  {
   "cell_type": "code",
   "execution_count": 13,
   "metadata": {},
   "outputs": [
    {
     "name": "stderr",
     "output_type": "stream",
     "text": [
      "C:\\Users\\drago\\AppData\\Local\\Temp\\ipykernel_13756\\2093888782.py:1: SettingWithCopyWarning: \n",
      "A value is trying to be set on a copy of a slice from a DataFrame.\n",
      "Try using .loc[row_indexer,col_indexer] = value instead\n",
      "\n",
      "See the caveats in the documentation: https://pandas.pydata.org/pandas-docs/stable/user_guide/indexing.html#returning-a-view-versus-a-copy\n",
      "  df['bedroom'] = df['bedroom'].replace('Studio', '1')\n"
     ]
    }
   ],
   "source": [
    "df['bedroom'] = df['bedroom'].replace('Studio', '1')"
   ]
  },
  {
   "cell_type": "code",
   "execution_count": 14,
   "metadata": {},
   "outputs": [
    {
     "data": {
      "text/plain": [
       "1"
      ]
     },
     "execution_count": 14,
     "metadata": {},
     "output_type": "execute_result"
    }
   ],
   "source": [
    "(df['bedroom'] == '{0}').sum()"
   ]
  },
  {
   "cell_type": "code",
   "execution_count": 15,
   "metadata": {},
   "outputs": [
    {
     "data": {
      "text/html": [
       "<div>\n",
       "<style scoped>\n",
       "    .dataframe tbody tr th:only-of-type {\n",
       "        vertical-align: middle;\n",
       "    }\n",
       "\n",
       "    .dataframe tbody tr th {\n",
       "        vertical-align: top;\n",
       "    }\n",
       "\n",
       "    .dataframe thead th {\n",
       "        text-align: right;\n",
       "    }\n",
       "</style>\n",
       "<table border=\"1\" class=\"dataframe\">\n",
       "  <thead>\n",
       "    <tr style=\"text-align: right;\">\n",
       "      <th></th>\n",
       "      <th>type</th>\n",
       "      <th>location</th>\n",
       "      <th>bedroom</th>\n",
       "      <th>bathroom</th>\n",
       "      <th>size_sqm</th>\n",
       "      <th>price</th>\n",
       "    </tr>\n",
       "  </thead>\n",
       "  <tbody>\n",
       "    <tr>\n",
       "      <th>3600</th>\n",
       "      <td>Villa</td>\n",
       "      <td>Al Burouj Compound, El Shorouk Compounds, Shor...</td>\n",
       "      <td>{0}</td>\n",
       "      <td>4</td>\n",
       "      <td>305</td>\n",
       "      <td>10,000,000</td>\n",
       "    </tr>\n",
       "  </tbody>\n",
       "</table>\n",
       "</div>"
      ],
      "text/plain": [
       "       type                                           location bedroom  \\\n",
       "3600  Villa  Al Burouj Compound, El Shorouk Compounds, Shor...     {0}   \n",
       "\n",
       "      bathroom size_sqm       price  \n",
       "3600         4      305  10,000,000  "
      ]
     },
     "execution_count": 15,
     "metadata": {},
     "output_type": "execute_result"
    }
   ],
   "source": [
    "df.loc[df['bedroom'] == '{0}']"
   ]
  },
  {
   "cell_type": "code",
   "execution_count": 16,
   "metadata": {},
   "outputs": [],
   "source": [
    "df= df[df['bedroom']!= '{0}']"
   ]
  },
  {
   "cell_type": "code",
   "execution_count": 17,
   "metadata": {},
   "outputs": [
    {
     "data": {
      "text/plain": [
       "array(['4', '3', '5', '2', '1', '7', '6', '8'], dtype=object)"
      ]
     },
     "execution_count": 17,
     "metadata": {},
     "output_type": "execute_result"
    }
   ],
   "source": [
    "df['bedroom'].unique()"
   ]
  },
  {
   "cell_type": "code",
   "execution_count": 18,
   "metadata": {},
   "outputs": [
    {
     "name": "stderr",
     "output_type": "stream",
     "text": [
      "C:\\Users\\drago\\AppData\\Local\\Temp\\ipykernel_13756\\3070568788.py:1: SettingWithCopyWarning: \n",
      "A value is trying to be set on a copy of a slice from a DataFrame.\n",
      "Try using .loc[row_indexer,col_indexer] = value instead\n",
      "\n",
      "See the caveats in the documentation: https://pandas.pydata.org/pandas-docs/stable/user_guide/indexing.html#returning-a-view-versus-a-copy\n",
      "  df['bedroom'] = df['bedroom'].astype(int)\n"
     ]
    }
   ],
   "source": [
    "df['bedroom'] = df['bedroom'].astype(int)"
   ]
  },
  {
   "cell_type": "code",
   "execution_count": 19,
   "metadata": {},
   "outputs": [
    {
     "name": "stdout",
     "output_type": "stream",
     "text": [
      "<class 'pandas.core.frame.DataFrame'>\n",
      "Index: 11109 entries, 0 to 11417\n",
      "Data columns (total 6 columns):\n",
      " #   Column    Non-Null Count  Dtype \n",
      "---  ------    --------------  ----- \n",
      " 0   type      11109 non-null  object\n",
      " 1   location  11109 non-null  object\n",
      " 2   bedroom   11109 non-null  int32 \n",
      " 3   bathroom  11109 non-null  int64 \n",
      " 4   size_sqm  11109 non-null  object\n",
      " 5   price     11109 non-null  object\n",
      "dtypes: int32(1), int64(1), object(4)\n",
      "memory usage: 564.1+ KB\n"
     ]
    }
   ],
   "source": [
    "df.info()"
   ]
  },
  {
   "cell_type": "code",
   "execution_count": 20,
   "metadata": {},
   "outputs": [
    {
     "data": {
      "text/plain": [
       "0"
      ]
     },
     "execution_count": 20,
     "metadata": {},
     "output_type": "execute_result"
    }
   ],
   "source": [
    "df['bedroom'].isnull().sum()\n"
   ]
  },
  {
   "cell_type": "markdown",
   "metadata": {},
   "source": [
    "fixing bathrooms"
   ]
  },
  {
   "cell_type": "code",
   "execution_count": 21,
   "metadata": {},
   "outputs": [
    {
     "data": {
      "text/plain": [
       "array([4, 3, 6, 2, 5, 1, 7, 8], dtype=int64)"
      ]
     },
     "execution_count": 21,
     "metadata": {},
     "output_type": "execute_result"
    }
   ],
   "source": [
    "df['bathroom'].unique()\n"
   ]
  },
  {
   "cell_type": "code",
   "execution_count": 22,
   "metadata": {},
   "outputs": [
    {
     "data": {
      "text/plain": [
       "0"
      ]
     },
     "execution_count": 22,
     "metadata": {},
     "output_type": "execute_result"
    }
   ],
   "source": [
    "df['bathroom'].isnull().sum()"
   ]
  },
  {
   "cell_type": "markdown",
   "metadata": {},
   "source": [
    "fixing size"
   ]
  },
  {
   "cell_type": "code",
   "execution_count": 23,
   "metadata": {},
   "outputs": [
    {
     "data": {
      "text/plain": [
       "array(['345', '285', '210', '230', '284', '172', '250', '220', '114',\n",
       "       '204', '327', '330', '235', '777', '124', '185', '165', '465',\n",
       "       '320', '136', '125', '206', '258', '207', '144', '142', '164',\n",
       "       '344', '287', '156', '216', '260', '248', '530', '179', '95',\n",
       "       '199', '283', '278', '187', '166', '160', '205', '190', '209',\n",
       "       '194', '168', '157', '305', '129', '316', '800', '161', '126',\n",
       "       '133', '150', '208', '180', '195', '163', '171', '69', '193',\n",
       "       '240', '266', '140', '281', '545', '183', '211', '175', '170',\n",
       "       '424', '122', '360', '370', '508', '108', '139', '192', '365',\n",
       "       '146', '390', '174', '400', '295', '280', '200', '60', '130',\n",
       "       '300', '500', '475', '420', '145', '176', '472', '540', '226',\n",
       "       '313', '188', '375', '63', '128', '215', '409', '850', '177',\n",
       "       '355', '152', '169', '384', '158', '217', '191', '155', '388',\n",
       "       '138', '167', '294', '484', '387', '676', '251', '311', '270',\n",
       "       '225', '308', '178', '450', '181', '319', '417', '154', '173',\n",
       "       '254', '256', '197', '650', '366', '1,400', '567', '575', '198',\n",
       "       '760', '288', '331', '162', '950', '110', '127', '356', '480',\n",
       "       '233', '279', '189', '236', '265', '286', '357', '470', '148',\n",
       "       '391', '380', '376', '184', '120', '115', '600', '750', '415',\n",
       "       '273', '373', '820', '274', '1,060', '111', '245', '496', '653',\n",
       "       '83', '237', '618', '755', '272', '135', '88', '430', '159', '585',\n",
       "       '1,335', '536', '350', '900', '840', '268', '610', '255', '550',\n",
       "       '261', '143', '410', '137', '92', '317', '153', '186', '708',\n",
       "       '385', '231', '310', '141', '90', '455', '667', '770', '303',\n",
       "       '1,300', '221', '666', '212', '340', '440', '1,200', '227', '520',\n",
       "       '253', '555', '234', '700', '84', '732', '425', '182', '244',\n",
       "       '718', '134', '720', '223', '1,061', '554', '1,100', '927', '532',\n",
       "       '630', '434', '347', '228', '298', '485', '741', '1,500', '247',\n",
       "       '382', '118', '611', '1,050', '238', '326', '149', '325', '218',\n",
       "       '275', '321', '880', '486', '246', '43', '334', '435', '329',\n",
       "       '121', '64', '276', '780', '432', '264', '119', '132', '123',\n",
       "       '655', '116', '722', '214', '112', '277', '1,000', '620', '289',\n",
       "       '1,285', '323', '290', '93', '570', '361', '622', '147', '2,250',\n",
       "       '262', '684', '414', '241', '224', '544', '870', '881', '259',\n",
       "       '82', '364', '1,155', '685', '328', '590', '656', '66', '729',\n",
       "       '406', '724', '113', '342', '413', '446', '101', '2,500', '293',\n",
       "       '232', '514', '757', '349', '482', '252', '447', '452', '1,029',\n",
       "       '219', '1,600', '562', '96', '790', '1,700', '2,300', '640', '282',\n",
       "       '512', '85', '1,062', '201', '654', '14,500,000', '444', '1,007',\n",
       "       '378', '521', '291', '449', '2,000', '348', '471', '1,287', '306',\n",
       "       '1,298', '560', '625', '267', '422', '309', '359', '314', '495',\n",
       "       '78', '203', '94', '1,009', '243', '1,070', '483', '98', '131',\n",
       "       '324', '307', '343', '680', '888', '441', '100', '1,650', '249',\n",
       "       '86', '332', '692', '1,024', '395', '103', '681', '337', '76',\n",
       "       '1,800', '386', '1,030', '399', '239', '109', '222', '513', '72',\n",
       "       '58', '242', '202', '460', '335', '196', '372', '1,004', '740',\n",
       "       '99', '437', '107', '377', '393', '510', '269', '1,320', '515',\n",
       "       '80', '645', '578', '725', '35', '637', '1,340', '59', '271',\n",
       "       '701', '257', '407', '15,500,000', '213', '1,207', '462', '806',\n",
       "       '299', '429', '507', '339', '354', '102', '474', '151', '351',\n",
       "       '292', '533', '67', '454', '1,120', '97', '312', '749', '528',\n",
       "       '405', '660', '715', '105', '304', '1,580', '525', '403', '682',\n",
       "       '549', '371', '1,098', '263', '1,250', '478', '1,089', '1,020',\n",
       "       '464', '735', '792', '47', '398', '4,000', '71', '1,900', '518',\n",
       "       '74', '2,100', '381', '70', '615', '665', '636', '338', '341',\n",
       "       '1,832,000', '613', '363', '1,150', '690', '394', '628', '436',\n",
       "       '318', '538', '491', '626', '627', '582', '426', '456', '1,350',\n",
       "       '522', '843', '369', '229', '1,399', '580', '453', '75', '89',\n",
       "       '799', '297', '599', '1,130', '396', '104', '556', '825', '714',\n",
       "       '401', '966', '79', '657', '501', '1,750', '559', '3,850', '487',\n",
       "       '531', '26,650,000', '658', '333', '315', '623', '8,800,000',\n",
       "       '1,099', '670', '511', '535', '445', '744', '803', '358', '379',\n",
       "       '368', '419', '584', '649', '463', '62', '2,200', '930', '973',\n",
       "       '1,832', '746', '558', '805', '527', '302', '498', '815', '1,080',\n",
       "       '546', '816', '443', '1,180', '1,275', '346', '889', '572', '374',\n",
       "       '710', '730', '542', '468', '506', '723', '36', '919', '753',\n",
       "       '661', '352', '367', '776', '581', '1,270', '516', '946', '301',\n",
       "       '412', '526', '296', '868', '834', '1,210', '1,085', '859', '980',\n",
       "       '1,260', '87', '1,010', '672', '24,500,000', '427', '2,250,000',\n",
       "       '860', '1,550', '925', '675', '428', '1,259', '1,240', '2,600',\n",
       "       '91', '594', '1,249', '448', '117', '602', '1,286', '687', '534',\n",
       "       '1,780', '849', '517', '77', '1,660', '1,380', '579', '547',\n",
       "       '2,150', '671', '565', '571', '65', '431', '686', '499', '773',\n",
       "       '488', '1,255', '635', '970', '938', '2,589', '638', '569', '785',\n",
       "       '593', '1,174', '668', '466', '841', '55', '596', '940', '490',\n",
       "       '1,134', '416', '81', '583', '537', '1,785', '34', '1,280', '402',\n",
       "       '1,136', '855', '947', '633', '802', '768', '1,327', '935', '647',\n",
       "       '5,700,000', '10,300,000', '616', '1,039', '960', '383', '48',\n",
       "       '362', '57', '459', '588', '467', '1,512', '890', '631', '421',\n",
       "       '353', '629', '564', '595', '1,140', '706', '1,400,000', '411',\n",
       "       '879', '1', '956', '2,700', '677', '842', '601', '106',\n",
       "       '14,350,000', '719'], dtype=object)"
      ]
     },
     "execution_count": 23,
     "metadata": {},
     "output_type": "execute_result"
    }
   ],
   "source": [
    "df['size_sqm'].unique()"
   ]
  },
  {
   "cell_type": "code",
   "execution_count": 24,
   "metadata": {},
   "outputs": [
    {
     "name": "stderr",
     "output_type": "stream",
     "text": [
      "C:\\Users\\drago\\AppData\\Local\\Temp\\ipykernel_13756\\575602619.py:5: SettingWithCopyWarning: \n",
      "A value is trying to be set on a copy of a slice from a DataFrame.\n",
      "Try using .loc[row_indexer,col_indexer] = value instead\n",
      "\n",
      "See the caveats in the documentation: https://pandas.pydata.org/pandas-docs/stable/user_guide/indexing.html#returning-a-view-versus-a-copy\n",
      "  df['size_sqm'] = df['size_sqm'].apply(fix_size_sqm)\n"
     ]
    }
   ],
   "source": [
    "def fix_size_sqm(x):\n",
    "    if ',' in x:\n",
    "        x = x.replace(',', '')\n",
    "    return x\n",
    "df['size_sqm'] = df['size_sqm'].apply(fix_size_sqm)"
   ]
  },
  {
   "cell_type": "code",
   "execution_count": 25,
   "metadata": {},
   "outputs": [
    {
     "data": {
      "text/plain": [
       "array(['345', '285', '210', '230', '284', '172', '250', '220', '114',\n",
       "       '204', '327', '330', '235', '777', '124', '185', '165', '465',\n",
       "       '320', '136', '125', '206', '258', '207', '144', '142', '164',\n",
       "       '344', '287', '156', '216', '260', '248', '530', '179', '95',\n",
       "       '199', '283', '278', '187', '166', '160', '205', '190', '209',\n",
       "       '194', '168', '157', '305', '129', '316', '800', '161', '126',\n",
       "       '133', '150', '208', '180', '195', '163', '171', '69', '193',\n",
       "       '240', '266', '140', '281', '545', '183', '211', '175', '170',\n",
       "       '424', '122', '360', '370', '508', '108', '139', '192', '365',\n",
       "       '146', '390', '174', '400', '295', '280', '200', '60', '130',\n",
       "       '300', '500', '475', '420', '145', '176', '472', '540', '226',\n",
       "       '313', '188', '375', '63', '128', '215', '409', '850', '177',\n",
       "       '355', '152', '169', '384', '158', '217', '191', '155', '388',\n",
       "       '138', '167', '294', '484', '387', '676', '251', '311', '270',\n",
       "       '225', '308', '178', '450', '181', '319', '417', '154', '173',\n",
       "       '254', '256', '197', '650', '366', '1400', '567', '575', '198',\n",
       "       '760', '288', '331', '162', '950', '110', '127', '356', '480',\n",
       "       '233', '279', '189', '236', '265', '286', '357', '470', '148',\n",
       "       '391', '380', '376', '184', '120', '115', '600', '750', '415',\n",
       "       '273', '373', '820', '274', '1060', '111', '245', '496', '653',\n",
       "       '83', '237', '618', '755', '272', '135', '88', '430', '159', '585',\n",
       "       '1335', '536', '350', '900', '840', '268', '610', '255', '550',\n",
       "       '261', '143', '410', '137', '92', '317', '153', '186', '708',\n",
       "       '385', '231', '310', '141', '90', '455', '667', '770', '303',\n",
       "       '1300', '221', '666', '212', '340', '440', '1200', '227', '520',\n",
       "       '253', '555', '234', '700', '84', '732', '425', '182', '244',\n",
       "       '718', '134', '720', '223', '1061', '554', '1100', '927', '532',\n",
       "       '630', '434', '347', '228', '298', '485', '741', '1500', '247',\n",
       "       '382', '118', '611', '1050', '238', '326', '149', '325', '218',\n",
       "       '275', '321', '880', '486', '246', '43', '334', '435', '329',\n",
       "       '121', '64', '276', '780', '432', '264', '119', '132', '123',\n",
       "       '655', '116', '722', '214', '112', '277', '1000', '620', '289',\n",
       "       '1285', '323', '290', '93', '570', '361', '622', '147', '2250',\n",
       "       '262', '684', '414', '241', '224', '544', '870', '881', '259',\n",
       "       '82', '364', '1155', '685', '328', '590', '656', '66', '729',\n",
       "       '406', '724', '113', '342', '413', '446', '101', '2500', '293',\n",
       "       '232', '514', '757', '349', '482', '252', '447', '452', '1029',\n",
       "       '219', '1600', '562', '96', '790', '1700', '2300', '640', '282',\n",
       "       '512', '85', '1062', '201', '654', '14500000', '444', '1007',\n",
       "       '378', '521', '291', '449', '2000', '348', '471', '1287', '306',\n",
       "       '1298', '560', '625', '267', '422', '309', '359', '314', '495',\n",
       "       '78', '203', '94', '1009', '243', '1070', '483', '98', '131',\n",
       "       '324', '307', '343', '680', '888', '441', '100', '1650', '249',\n",
       "       '86', '332', '692', '1024', '395', '103', '681', '337', '76',\n",
       "       '1800', '386', '1030', '399', '239', '109', '222', '513', '72',\n",
       "       '58', '242', '202', '460', '335', '196', '372', '1004', '740',\n",
       "       '99', '437', '107', '377', '393', '510', '269', '1320', '515',\n",
       "       '80', '645', '578', '725', '35', '637', '1340', '59', '271', '701',\n",
       "       '257', '407', '15500000', '213', '1207', '462', '806', '299',\n",
       "       '429', '507', '339', '354', '102', '474', '151', '351', '292',\n",
       "       '533', '67', '454', '1120', '97', '312', '749', '528', '405',\n",
       "       '660', '715', '105', '304', '1580', '525', '403', '682', '549',\n",
       "       '371', '1098', '263', '1250', '478', '1089', '1020', '464', '735',\n",
       "       '792', '47', '398', '4000', '71', '1900', '518', '74', '2100',\n",
       "       '381', '70', '615', '665', '636', '338', '341', '1832000', '613',\n",
       "       '363', '1150', '690', '394', '628', '436', '318', '538', '491',\n",
       "       '626', '627', '582', '426', '456', '1350', '522', '843', '369',\n",
       "       '229', '1399', '580', '453', '75', '89', '799', '297', '599',\n",
       "       '1130', '396', '104', '556', '825', '714', '401', '966', '79',\n",
       "       '657', '501', '1750', '559', '3850', '487', '531', '26650000',\n",
       "       '658', '333', '315', '623', '8800000', '1099', '670', '511', '535',\n",
       "       '445', '744', '803', '358', '379', '368', '419', '584', '649',\n",
       "       '463', '62', '2200', '930', '973', '1832', '746', '558', '805',\n",
       "       '527', '302', '498', '815', '1080', '546', '816', '443', '1180',\n",
       "       '1275', '346', '889', '572', '374', '710', '730', '542', '468',\n",
       "       '506', '723', '36', '919', '753', '661', '352', '367', '776',\n",
       "       '581', '1270', '516', '946', '301', '412', '526', '296', '868',\n",
       "       '834', '1210', '1085', '859', '980', '1260', '87', '1010', '672',\n",
       "       '24500000', '427', '2250000', '860', '1550', '925', '675', '428',\n",
       "       '1259', '1240', '2600', '91', '594', '1249', '448', '117', '602',\n",
       "       '1286', '687', '534', '1780', '849', '517', '77', '1660', '1380',\n",
       "       '579', '547', '2150', '671', '565', '571', '65', '431', '686',\n",
       "       '499', '773', '488', '1255', '635', '970', '938', '2589', '638',\n",
       "       '569', '785', '593', '1174', '668', '466', '841', '55', '596',\n",
       "       '940', '490', '1134', '416', '81', '583', '537', '1785', '34',\n",
       "       '1280', '402', '1136', '855', '947', '633', '802', '768', '1327',\n",
       "       '935', '647', '5700000', '10300000', '616', '1039', '960', '383',\n",
       "       '48', '362', '57', '459', '588', '467', '1512', '890', '631',\n",
       "       '421', '353', '629', '564', '595', '1140', '706', '1400000', '411',\n",
       "       '879', '1', '956', '2700', '677', '842', '601', '106', '14350000',\n",
       "       '719'], dtype=object)"
      ]
     },
     "execution_count": 25,
     "metadata": {},
     "output_type": "execute_result"
    }
   ],
   "source": [
    "df['size_sqm'].unique()"
   ]
  },
  {
   "cell_type": "code",
   "execution_count": 26,
   "metadata": {},
   "outputs": [
    {
     "name": "stderr",
     "output_type": "stream",
     "text": [
      "C:\\Users\\drago\\AppData\\Local\\Temp\\ipykernel_13756\\327374113.py:1: SettingWithCopyWarning: \n",
      "A value is trying to be set on a copy of a slice from a DataFrame.\n",
      "Try using .loc[row_indexer,col_indexer] = value instead\n",
      "\n",
      "See the caveats in the documentation: https://pandas.pydata.org/pandas-docs/stable/user_guide/indexing.html#returning-a-view-versus-a-copy\n",
      "  df['size_sqm'] = df['size_sqm'].astype(int)\n"
     ]
    }
   ],
   "source": [
    "df['size_sqm'] = df['size_sqm'].astype(int)"
   ]
  },
  {
   "cell_type": "code",
   "execution_count": 27,
   "metadata": {},
   "outputs": [
    {
     "name": "stderr",
     "output_type": "stream",
     "text": [
      "C:\\Users\\drago\\AppData\\Local\\Temp\\ipykernel_13756\\2901725498.py:1: SettingWithCopyWarning: \n",
      "A value is trying to be set on a copy of a slice from a DataFrame\n",
      "\n",
      "See the caveats in the documentation: https://pandas.pydata.org/pandas-docs/stable/user_guide/indexing.html#returning-a-view-versus-a-copy\n",
      "  df.drop(df[df['size_sqm'] == 1].index, inplace=True)\n"
     ]
    }
   ],
   "source": [
    "df.drop(df[df['size_sqm'] == 1].index, inplace=True)\n"
   ]
  },
  {
   "cell_type": "code",
   "execution_count": 28,
   "metadata": {},
   "outputs": [
    {
     "name": "stderr",
     "output_type": "stream",
     "text": [
      "C:\\Users\\drago\\AppData\\Local\\Temp\\ipykernel_13756\\2093096070.py:1: SettingWithCopyWarning: \n",
      "A value is trying to be set on a copy of a slice from a DataFrame\n",
      "\n",
      "See the caveats in the documentation: https://pandas.pydata.org/pandas-docs/stable/user_guide/indexing.html#returning-a-view-versus-a-copy\n",
      "  df.drop(df[df['size_sqm'] > 5000].index, inplace=True)\n"
     ]
    }
   ],
   "source": [
    "df.drop(df[df['size_sqm'] > 5000].index, inplace=True)\n"
   ]
  },
  {
   "cell_type": "code",
   "execution_count": 29,
   "metadata": {},
   "outputs": [
    {
     "data": {
      "text/plain": [
       "4000"
      ]
     },
     "execution_count": 29,
     "metadata": {},
     "output_type": "execute_result"
    }
   ],
   "source": [
    "df['size_sqm'].max()"
   ]
  },
  {
   "cell_type": "code",
   "execution_count": 30,
   "metadata": {},
   "outputs": [
    {
     "name": "stdout",
     "output_type": "stream",
     "text": [
      "<class 'pandas.core.frame.DataFrame'>\n",
      "Index: 11096 entries, 0 to 11417\n",
      "Data columns (total 6 columns):\n",
      " #   Column    Non-Null Count  Dtype \n",
      "---  ------    --------------  ----- \n",
      " 0   type      11096 non-null  object\n",
      " 1   location  11096 non-null  object\n",
      " 2   bedroom   11096 non-null  int32 \n",
      " 3   bathroom  11096 non-null  int64 \n",
      " 4   size_sqm  11096 non-null  int32 \n",
      " 5   price     11096 non-null  object\n",
      "dtypes: int32(2), int64(1), object(3)\n",
      "memory usage: 520.1+ KB\n"
     ]
    }
   ],
   "source": [
    "df.info()"
   ]
  },
  {
   "cell_type": "markdown",
   "metadata": {},
   "source": [
    "fixing price"
   ]
  },
  {
   "cell_type": "code",
   "execution_count": 31,
   "metadata": {},
   "outputs": [
    {
     "data": {
      "text/plain": [
       "array(['6,850,000', '10,000,000', '5,700,000', ..., '1,837,500',\n",
       "       '10,276,891', '4,554,066'], dtype=object)"
      ]
     },
     "execution_count": 31,
     "metadata": {},
     "output_type": "execute_result"
    }
   ],
   "source": [
    "df['price'].unique()"
   ]
  },
  {
   "cell_type": "code",
   "execution_count": 32,
   "metadata": {},
   "outputs": [
    {
     "data": {
      "text/plain": [
       "0"
      ]
     },
     "execution_count": 32,
     "metadata": {},
     "output_type": "execute_result"
    }
   ],
   "source": [
    "df['price'].isnull().sum()"
   ]
  },
  {
   "cell_type": "code",
   "execution_count": 33,
   "metadata": {},
   "outputs": [
    {
     "name": "stderr",
     "output_type": "stream",
     "text": [
      "C:\\Users\\drago\\AppData\\Local\\Temp\\ipykernel_13756\\3212037040.py:5: SettingWithCopyWarning: \n",
      "A value is trying to be set on a copy of a slice from a DataFrame.\n",
      "Try using .loc[row_indexer,col_indexer] = value instead\n",
      "\n",
      "See the caveats in the documentation: https://pandas.pydata.org/pandas-docs/stable/user_guide/indexing.html#returning-a-view-versus-a-copy\n",
      "  df['price'] = df['price'].apply(fix_price)\n"
     ]
    }
   ],
   "source": [
    "def fix_price(x):\n",
    "    if ',' in x:\n",
    "        x = x.replace(',', '')\n",
    "    return x\n",
    "df['price'] = df['price'].apply(fix_price)\n"
   ]
  },
  {
   "cell_type": "code",
   "execution_count": 34,
   "metadata": {},
   "outputs": [
    {
     "data": {
      "text/plain": [
       "array(['6850000', '10000000', '5700000', ..., '1837500', '10276891',\n",
       "       '4554066'], dtype=object)"
      ]
     },
     "execution_count": 34,
     "metadata": {},
     "output_type": "execute_result"
    }
   ],
   "source": [
    "df['price'].unique()"
   ]
  },
  {
   "cell_type": "code",
   "execution_count": 35,
   "metadata": {},
   "outputs": [
    {
     "data": {
      "text/html": [
       "<div>\n",
       "<style scoped>\n",
       "    .dataframe tbody tr th:only-of-type {\n",
       "        vertical-align: middle;\n",
       "    }\n",
       "\n",
       "    .dataframe tbody tr th {\n",
       "        vertical-align: top;\n",
       "    }\n",
       "\n",
       "    .dataframe thead th {\n",
       "        text-align: right;\n",
       "    }\n",
       "</style>\n",
       "<table border=\"1\" class=\"dataframe\">\n",
       "  <thead>\n",
       "    <tr style=\"text-align: right;\">\n",
       "      <th></th>\n",
       "      <th>type</th>\n",
       "      <th>location</th>\n",
       "      <th>bedroom</th>\n",
       "      <th>bathroom</th>\n",
       "      <th>size_sqm</th>\n",
       "      <th>price</th>\n",
       "    </tr>\n",
       "  </thead>\n",
       "  <tbody>\n",
       "    <tr>\n",
       "      <th>20</th>\n",
       "      <td>Apartment</td>\n",
       "      <td>Oia, New Capital Compounds, New Capital City, ...</td>\n",
       "      <td>3</td>\n",
       "      <td>3</td>\n",
       "      <td>136</td>\n",
       "      <td>Ask</td>\n",
       "    </tr>\n",
       "    <tr>\n",
       "      <th>60</th>\n",
       "      <td>Townhouse</td>\n",
       "      <td>Hyde Park, 5th Settlement Compounds, The 5th S...</td>\n",
       "      <td>4</td>\n",
       "      <td>4</td>\n",
       "      <td>316</td>\n",
       "      <td>Ask</td>\n",
       "    </tr>\n",
       "    <tr>\n",
       "      <th>95</th>\n",
       "      <td>Apartment</td>\n",
       "      <td>Hyde Park, 5th Settlement Compounds, The 5th S...</td>\n",
       "      <td>2</td>\n",
       "      <td>2</td>\n",
       "      <td>139</td>\n",
       "      <td>Ask</td>\n",
       "    </tr>\n",
       "    <tr>\n",
       "      <th>131</th>\n",
       "      <td>Duplex</td>\n",
       "      <td>Monte Napoleone, Mostakbal City Compounds, Mos...</td>\n",
       "      <td>3</td>\n",
       "      <td>3</td>\n",
       "      <td>144</td>\n",
       "      <td>Ask</td>\n",
       "    </tr>\n",
       "    <tr>\n",
       "      <th>155</th>\n",
       "      <td>Apartment</td>\n",
       "      <td>Eastown, 5th Settlement Compounds, The 5th Set...</td>\n",
       "      <td>3</td>\n",
       "      <td>3</td>\n",
       "      <td>191</td>\n",
       "      <td>Ask</td>\n",
       "    </tr>\n",
       "    <tr>\n",
       "      <th>...</th>\n",
       "      <td>...</td>\n",
       "      <td>...</td>\n",
       "      <td>...</td>\n",
       "      <td>...</td>\n",
       "      <td>...</td>\n",
       "      <td>...</td>\n",
       "    </tr>\n",
       "    <tr>\n",
       "      <th>11387</th>\n",
       "      <td>Villa</td>\n",
       "      <td>Madinaty, Cairo</td>\n",
       "      <td>3</td>\n",
       "      <td>3</td>\n",
       "      <td>267</td>\n",
       "      <td>Ask</td>\n",
       "    </tr>\n",
       "    <tr>\n",
       "      <th>11388</th>\n",
       "      <td>Apartment</td>\n",
       "      <td>Madinaty, Cairo</td>\n",
       "      <td>2</td>\n",
       "      <td>2</td>\n",
       "      <td>96</td>\n",
       "      <td>Ask</td>\n",
       "    </tr>\n",
       "    <tr>\n",
       "      <th>11390</th>\n",
       "      <td>Villa</td>\n",
       "      <td>Madinaty, Cairo</td>\n",
       "      <td>3</td>\n",
       "      <td>3</td>\n",
       "      <td>267</td>\n",
       "      <td>Ask</td>\n",
       "    </tr>\n",
       "    <tr>\n",
       "      <th>11407</th>\n",
       "      <td>Apartment</td>\n",
       "      <td>Rehab City Second Phase, Al Rehab, New Cairo C...</td>\n",
       "      <td>3</td>\n",
       "      <td>3</td>\n",
       "      <td>155</td>\n",
       "      <td>Ask</td>\n",
       "    </tr>\n",
       "    <tr>\n",
       "      <th>11408</th>\n",
       "      <td>Apartment</td>\n",
       "      <td>Nasr City, Cairo</td>\n",
       "      <td>3</td>\n",
       "      <td>2</td>\n",
       "      <td>220</td>\n",
       "      <td>Ask</td>\n",
       "    </tr>\n",
       "  </tbody>\n",
       "</table>\n",
       "<p>402 rows × 6 columns</p>\n",
       "</div>"
      ],
      "text/plain": [
       "            type                                           location  bedroom  \\\n",
       "20     Apartment  Oia, New Capital Compounds, New Capital City, ...        3   \n",
       "60     Townhouse  Hyde Park, 5th Settlement Compounds, The 5th S...        4   \n",
       "95     Apartment  Hyde Park, 5th Settlement Compounds, The 5th S...        2   \n",
       "131       Duplex  Monte Napoleone, Mostakbal City Compounds, Mos...        3   \n",
       "155    Apartment  Eastown, 5th Settlement Compounds, The 5th Set...        3   \n",
       "...          ...                                                ...      ...   \n",
       "11387      Villa                                    Madinaty, Cairo        3   \n",
       "11388  Apartment                                    Madinaty, Cairo        2   \n",
       "11390      Villa                                    Madinaty, Cairo        3   \n",
       "11407  Apartment  Rehab City Second Phase, Al Rehab, New Cairo C...        3   \n",
       "11408  Apartment                                   Nasr City, Cairo        3   \n",
       "\n",
       "       bathroom  size_sqm price  \n",
       "20            3       136   Ask  \n",
       "60            4       316   Ask  \n",
       "95            2       139   Ask  \n",
       "131           3       144   Ask  \n",
       "155           3       191   Ask  \n",
       "...         ...       ...   ...  \n",
       "11387         3       267   Ask  \n",
       "11388         2        96   Ask  \n",
       "11390         3       267   Ask  \n",
       "11407         3       155   Ask  \n",
       "11408         2       220   Ask  \n",
       "\n",
       "[402 rows x 6 columns]"
      ]
     },
     "execution_count": 35,
     "metadata": {},
     "output_type": "execute_result"
    }
   ],
   "source": [
    "df.loc[df['price']== \"Ask\"]"
   ]
  },
  {
   "cell_type": "code",
   "execution_count": 36,
   "metadata": {},
   "outputs": [
    {
     "data": {
      "text/plain": [
       "0"
      ]
     },
     "execution_count": 36,
     "metadata": {},
     "output_type": "execute_result"
    }
   ],
   "source": [
    "df['price'].isnull().sum()"
   ]
  },
  {
   "cell_type": "code",
   "execution_count": 37,
   "metadata": {},
   "outputs": [
    {
     "name": "stderr",
     "output_type": "stream",
     "text": [
      "C:\\Users\\drago\\AppData\\Local\\Temp\\ipykernel_13756\\3828005640.py:1: SettingWithCopyWarning: \n",
      "A value is trying to be set on a copy of a slice from a DataFrame.\n",
      "Try using .loc[row_indexer,col_indexer] = value instead\n",
      "\n",
      "See the caveats in the documentation: https://pandas.pydata.org/pandas-docs/stable/user_guide/indexing.html#returning-a-view-versus-a-copy\n",
      "  df['price'] = pd.to_numeric(df['price'], errors='coerce')\n"
     ]
    }
   ],
   "source": [
    "df['price'] = pd.to_numeric(df['price'], errors='coerce')"
   ]
  },
  {
   "cell_type": "code",
   "execution_count": 38,
   "metadata": {},
   "outputs": [
    {
     "name": "stdout",
     "output_type": "stream",
     "text": [
      "<class 'pandas.core.frame.DataFrame'>\n",
      "Index: 11096 entries, 0 to 11417\n",
      "Data columns (total 6 columns):\n",
      " #   Column    Non-Null Count  Dtype  \n",
      "---  ------    --------------  -----  \n",
      " 0   type      11096 non-null  object \n",
      " 1   location  11096 non-null  object \n",
      " 2   bedroom   11096 non-null  int32  \n",
      " 3   bathroom  11096 non-null  int64  \n",
      " 4   size_sqm  11096 non-null  int32  \n",
      " 5   price     10694 non-null  float64\n",
      "dtypes: float64(1), int32(2), int64(1), object(2)\n",
      "memory usage: 520.1+ KB\n"
     ]
    }
   ],
   "source": [
    "df.info()"
   ]
  },
  {
   "cell_type": "code",
   "execution_count": 39,
   "metadata": {},
   "outputs": [
    {
     "data": {
      "text/plain": [
       "402"
      ]
     },
     "execution_count": 39,
     "metadata": {},
     "output_type": "execute_result"
    }
   ],
   "source": [
    "df['price'].isnull().sum()\n"
   ]
  },
  {
   "cell_type": "code",
   "execution_count": 40,
   "metadata": {},
   "outputs": [
    {
     "name": "stderr",
     "output_type": "stream",
     "text": [
      "C:\\Users\\drago\\AppData\\Local\\Temp\\ipykernel_13756\\1793042893.py:1: SettingWithCopyWarning: \n",
      "A value is trying to be set on a copy of a slice from a DataFrame\n",
      "\n",
      "See the caveats in the documentation: https://pandas.pydata.org/pandas-docs/stable/user_guide/indexing.html#returning-a-view-versus-a-copy\n",
      "  df.dropna(subset=['price'], inplace=True)\n"
     ]
    }
   ],
   "source": [
    "df.dropna(subset=['price'], inplace=True)"
   ]
  },
  {
   "cell_type": "code",
   "execution_count": 41,
   "metadata": {},
   "outputs": [
    {
     "data": {
      "text/plain": [
       "0"
      ]
     },
     "execution_count": 41,
     "metadata": {},
     "output_type": "execute_result"
    }
   ],
   "source": [
    "df['price'].isnull().sum()"
   ]
  },
  {
   "cell_type": "markdown",
   "metadata": {},
   "source": [
    "## 1. What is the distribution of property types in the dataset?"
   ]
  },
  {
   "cell_type": "code",
   "execution_count": 42,
   "metadata": {},
   "outputs": [],
   "source": [
    "type_distribution = df['type'].value_counts()\n",
    "\n"
   ]
  },
  {
   "cell_type": "code",
   "execution_count": 43,
   "metadata": {},
   "outputs": [
    {
     "data": {
      "image/png": "[encoded data removed]",
      "text/plain": [
       "<Figure size 800x600 with 1 Axes>"
      ]
     },
     "metadata": {},
     "output_type": "display_data"
    }
   ],
   "source": [
    "plt.figure(figsize=(8, 6))\n",
    "type_distribution.plot(kind='bar', color='skyblue')\n",
    "plt.title('Distribution of Property Types')\n",
    "plt.xlabel('Property Type')\n",
    "plt.ylabel('Count')\n",
    "plt.xticks(rotation=45)\n",
    "plt.show()"
   ]
  },
  {
   "cell_type": "markdown",
   "metadata": {},
   "source": [
    "## 2. How does the price vary based on property type?\n"
   ]
  },
  {
   "cell_type": "code",
   "execution_count": 44,
   "metadata": {},
   "outputs": [],
   "source": [
    "avg_price_by_type = df.groupby('type')['price'].mean().sort_values(ascending=False)\n"
   ]
  },
  {
   "cell_type": "code",
   "execution_count": 45,
   "metadata": {},
   "outputs": [
    {
     "data": {
      "image/png": "[encoded data removed]",
      "text/plain": [
       "<Figure size 1000x600 with 1 Axes>"
      ]
     },
     "metadata": {},
     "output_type": "display_data"
    }
   ],
   "source": [
    "plt.figure(figsize=(10, 6))\n",
    "avg_price_by_type.plot(kind='bar', color='lightgreen')\n",
    "plt.title('Average Price by Property Type')\n",
    "plt.xlabel('Property Type')\n",
    "plt.ylabel('Average Price')\n",
    "plt.xticks(rotation=45)\n",
    "plt.show()"
   ]
  },
  {
   "cell_type": "markdown",
   "metadata": {},
   "source": [
    "## 3. Is there a relationship between the size of the property and its price?\n"
   ]
  },
  {
   "cell_type": "code",
   "execution_count": 46,
   "metadata": {},
   "outputs": [
    {
     "data": {
      "image/png": "[encoded data removed]",
      "text/plain": [
       "<Figure size 800x600 with 1 Axes>"
      ]
     },
     "metadata": {},
     "output_type": "display_data"
    }
   ],
   "source": [
    "plt.figure(figsize=(8, 6))\n",
    "plt.scatter(df['size_sqm'], df['price'], color='orange', alpha=0.5)\n",
    "plt.title('Relationship between Size and Price')\n",
    "plt.xlabel('Size (sqm)')\n",
    "plt.ylabel('Price')\n",
    "plt.grid(True)\n",
    "plt.show()"
   ]
  },
  {
   "cell_type": "markdown",
   "metadata": {},
   "source": [
    "## 4. How does the number of bedrooms affect the price?\n"
   ]
  },
  {
   "cell_type": "code",
   "execution_count": 47,
   "metadata": {},
   "outputs": [],
   "source": [
    "avg_price_by_bedrooms = df.groupby('bedroom')['price'].mean()\n"
   ]
  },
  {
   "cell_type": "code",
   "execution_count": 48,
   "metadata": {},
   "outputs": [
    {
     "data": {
      "image/png": "[encoded data removed]",
      "text/plain": [
       "<Figure size 800x600 with 1 Axes>"
      ]
     },
     "metadata": {},
     "output_type": "display_data"
    }
   ],
   "source": [
    "plt.figure(figsize=(8, 6))\n",
    "avg_price_by_bedrooms.plot(kind='bar', color='lightblue')\n",
    "plt.title('Average Price by Number of Bedrooms')\n",
    "plt.xlabel('Number of Bedrooms')\n",
    "plt.ylabel('Average Price')\n",
    "plt.xticks(rotation=0)\n",
    "plt.show()"
   ]
  },
  {
   "cell_type": "markdown",
   "metadata": {},
   "source": [
    "## 5. Are there any outliers in terms of price or size?\n"
   ]
  },
  {
   "cell_type": "code",
   "execution_count": 49,
   "metadata": {},
   "outputs": [
    {
     "data": {
      "image/png": "[encoded data removed]",
      "text/plain": [
       "<Figure size 1200x600 with 2 Axes>"
      ]
     },
     "metadata": {},
     "output_type": "display_data"
    }
   ],
   "source": [
    "#price\n",
    "plt.figure(figsize=(12, 6))\n",
    "plt.subplot(1, 2, 1)\n",
    "sns.boxplot(y='price', data=df, color='lightgreen')\n",
    "plt.title('Boxplot of Price')\n",
    "#size\n",
    "plt.subplot(1, 2, 2)\n",
    "sns.boxplot(y='size_sqm', data=df, color='lightblue')\n",
    "plt.title('Boxplot of Size (sqm)')\n",
    "\n",
    "plt.show()"
   ]
  },
  {
   "cell_type": "code",
   "execution_count": 50,
   "metadata": {},
   "outputs": [
    {
     "name": "stderr",
     "output_type": "stream",
     "text": [
      "C:\\Users\\drago\\AppData\\Local\\Temp\\ipykernel_13756\\1841873815.py:1: SettingWithCopyWarning: \n",
      "A value is trying to be set on a copy of a slice from a DataFrame.\n",
      "Try using .loc[row_indexer,col_indexer] = value instead\n",
      "\n",
      "See the caveats in the documentation: https://pandas.pydata.org/pandas-docs/stable/user_guide/indexing.html#returning-a-view-versus-a-copy\n",
      "  df.loc[:, 'price_per_sqm'] = df['price'] / df['size_sqm']\n"
     ]
    }
   ],
   "source": [
    "df.loc[:, 'price_per_sqm'] = df['price'] / df['size_sqm']\n",
    "avg_price_per_sqm_by_type = df.groupby('type')['price_per_sqm'].mean().sort_values()\n",
    "\n"
   ]
  },
  {
   "cell_type": "code",
   "execution_count": 51,
   "metadata": {},
   "outputs": [
    {
     "data": {
      "image/png": "[encoded data removed]",
      "text/plain": [
       "<Figure size 1000x600 with 1 Axes>"
      ]
     },
     "metadata": {},
     "output_type": "display_data"
    }
   ],
   "source": [
    "plt.figure(figsize=(10, 6))\n",
    "avg_price_per_sqm_by_type.plot(kind='bar', color='lightcoral')\n",
    "plt.title('Average Price per Square Meter by Property Type')\n",
    "plt.xlabel('Property Type')\n",
    "plt.ylabel('Average Price per Square Meter')\n",
    "plt.xticks(rotation=45)\n",
    "plt.show()"
   ]
  },
  {
   "cell_type": "markdown",
   "metadata": {},
   "source": [
    "## 7. Is there any correlation between the number of bathrooms and price?"
   ]
  },
  {
   "cell_type": "code",
   "execution_count": 52,
   "metadata": {},
   "outputs": [
    {
     "data": {
      "image/png": "[encoded data removed]",
      "text/plain": [
       "<Figure size 800x600 with 1 Axes>"
      ]
     },
     "metadata": {},
     "output_type": "display_data"
    }
   ],
   "source": [
    "plt.figure(figsize=(8, 6))\n",
    "sns.scatterplot(x='bathroom', y='price', data=df, color='purple')\n",
    "plt.title('Correlation between Number of Bathrooms and Price')\n",
    "plt.xlabel('Number of Bathrooms')\n",
    "plt.ylabel('Price')\n",
    "plt.grid(True)\n",
    "plt.show()"
   ]
  },
  {
   "cell_type": "markdown",
   "metadata": {},
   "source": [
    "## 8. What is the average price per square meter for properties with more 3 bedrooms?"
   ]
  },
  {
   "cell_type": "code",
   "execution_count": 53,
   "metadata": {},
   "outputs": [],
   "source": [
    "threshold_bedrooms = 3  \n",
    "filtered_df = df[df['bedroom'] > threshold_bedrooms]\n"
   ]
  },
  {
   "cell_type": "code",
   "execution_count": 54,
   "metadata": {},
   "outputs": [
    {
     "name": "stdout",
     "output_type": "stream",
     "text": [
      "Average Price per Square Meter for Properties with more than 3 bedrooms: 25995.415192559092\n"
     ]
    }
   ],
   "source": [
    "average_price_per_sqm = filtered_df['price'].mean() / filtered_df['size_sqm'].mean()\n",
    "print(\"Average Price per Square Meter for Properties with more than\", threshold_bedrooms, \"bedrooms:\", average_price_per_sqm)\n"
   ]
  },
  {
   "cell_type": "markdown",
   "metadata": {},
   "source": [
    "## 9. What is the location of the property with highest price?"
   ]
  },
  {
   "cell_type": "code",
   "execution_count": 55,
   "metadata": {},
   "outputs": [
    {
     "name": "stdout",
     "output_type": "stream",
     "text": [
      "Mountain View iCity, 5th Settlement Compounds, The 5th Settlement, New Cairo City, Cairo And it costs 418252716.0\n"
     ]
    }
   ],
   "source": [
    "max_price = df['price'].max()\n",
    "location = df.loc[df['price'] == max_price, 'location'].iloc[0]\n",
    "print (location, \"And it costs\" , max_price)"
   ]
  },
  {
   "cell_type": "markdown",
   "metadata": {},
   "source": [
    "## 10. What is the lowest price of an 8 bedroom property?"
   ]
  },
  {
   "cell_type": "code",
   "execution_count": 56,
   "metadata": {},
   "outputs": [
    {
     "name": "stdout",
     "output_type": "stream",
     "text": [
      "1265000.0  EGP\n"
     ]
    }
   ],
   "source": [
    "min_bedroom = df[df['bedroom'] == 8 ]['price'].min()\n",
    "print(min_bedroom, \" EGP\")"
   ]
  },
  {
   "cell_type": "markdown",
   "metadata": {},
   "source": [
    "## 11. what is the average price of a 3 bedroom and 2 bathroom property?"
   ]
  },
  {
   "cell_type": "code",
   "execution_count": 57,
   "metadata": {},
   "outputs": [
    {
     "name": "stdout",
     "output_type": "stream",
     "text": [
      "3190241.695956454  EGP\n"
     ]
    }
   ],
   "source": [
    "three_bed_2_bath = df[(df['bedroom'] == 3) & (df['bathroom'] == 2)]['price'].mean()\n",
    "print(three_bed_2_bath,\" EGP\")"
   ]
  },
  {
   "cell_type": "markdown",
   "metadata": {},
   "source": [
    "## 12. What is the average price for properties with less than 300 square meter? "
   ]
  },
  {
   "cell_type": "code",
   "execution_count": 58,
   "metadata": {},
   "outputs": [
    {
     "name": "stdout",
     "output_type": "stream",
     "text": [
      "3796842.499731255  EGP\n"
     ]
    }
   ],
   "source": [
    "avg_price = df[df['size_sqm'] < 300 ]['price'].mean()\n",
    "print(avg_price, \" EGP\")"
   ]
  },
  {
   "cell_type": "markdown",
   "metadata": {},
   "source": [
    "## 13. What is the location of the property with the smalled size?"
   ]
  },
  {
   "cell_type": "code",
   "execution_count": 59,
   "metadata": {},
   "outputs": [
    {
     "name": "stdout",
     "output_type": "stream",
     "text": [
      "Al Burouj Compound, El Shorouk Compounds, Shorouk City, Cairo\n"
     ]
    }
   ],
   "source": [
    "local = df.loc[df['size_sqm'].idxmin(), 'location']\n",
    "print(local)"
   ]
  },
  {
   "cell_type": "markdown",
   "metadata": {},
   "source": [
    "## 14. What is the most common number of bedrooms?"
   ]
  },
  {
   "cell_type": "code",
   "execution_count": 60,
   "metadata": {},
   "outputs": [
    {
     "name": "stdout",
     "output_type": "stream",
     "text": [
      "3  Bedrooms\n"
     ]
    }
   ],
   "source": [
    "common_bedrooms = df['bedroom'].mode()[0]\n",
    "print(common_bedrooms,\" Bedrooms\")"
   ]
  },
  {
   "cell_type": "markdown",
   "metadata": {},
   "source": [
    "## 15. how many properties have more than 5 bedrooms that is not considered a villa?"
   ]
  },
  {
   "cell_type": "code",
   "execution_count": 61,
   "metadata": {},
   "outputs": [
    {
     "name": "stdout",
     "output_type": "stream",
     "text": [
      "50\n"
     ]
    }
   ],
   "source": [
    "five_bedrooms = df[(df['bedroom'] > 5) & (df['type'] != 'Villa')].count()['type']\n",
    "print(five_bedrooms)"
   ]
  },
  {
   "cell_type": "markdown",
   "metadata": {},
   "source": [
    "## 16. what is the description of the most expensive property ?"
   ]
  },
  {
   "cell_type": "code",
   "execution_count": 62,
   "metadata": {},
   "outputs": [],
   "source": [
    "sorted_df = df.sort_values(by='price', ascending=False)\n"
   ]
  },
  {
   "cell_type": "code",
   "execution_count": 63,
   "metadata": {},
   "outputs": [],
   "source": [
    "most_expensive_property = sorted_df.iloc[0]\n"
   ]
  },
  {
   "cell_type": "code",
   "execution_count": 64,
   "metadata": {},
   "outputs": [
    {
     "name": "stdout",
     "output_type": "stream",
     "text": [
      "Description of the Most Expensive Property:\n",
      "type                                                     Apartment\n",
      "location         Mountain View iCity, 5th Settlement Compounds,...\n",
      "bedroom                                                          3\n",
      "bathroom                                                         2\n",
      "size_sqm                                                       140\n",
      "price                                                  418252716.0\n",
      "price_per_sqm                                            2987519.4\n",
      "Name: 8719, dtype: object\n"
     ]
    }
   ],
   "source": [
    "print(\"Description of the Most Expensive Property:\")\n",
    "print(most_expensive_property)"
   ]
  },
  {
   "cell_type": "markdown",
   "metadata": {},
   "source": [
    "## 17. what is the description of the least expensive property ?"
   ]
  },
  {
   "cell_type": "code",
   "execution_count": 65,
   "metadata": {},
   "outputs": [],
   "source": [
    "sorted_df = df.sort_values(by='price', ascending=True)\n"
   ]
  },
  {
   "cell_type": "code",
   "execution_count": 67,
   "metadata": {},
   "outputs": [
    {
     "name": "stdout",
     "output_type": "stream",
     "text": [
      "Description of the Least Expensive Property:\n",
      "type                                                     Apartment\n",
      "location         Stone Residence, 5th Settlement Compounds, The...\n",
      "bedroom                                                          2\n",
      "bathroom                                                         2\n",
      "size_sqm                                                       155\n",
      "price                                                    1000000.0\n",
      "price_per_sqm                                          6451.612903\n",
      "Name: 4597, dtype: object\n"
     ]
    }
   ],
   "source": [
    "least_expensive_property = sorted_df.iloc[0]\n",
    "\n",
    "print(\"Description of the Least Expensive Property:\")\n",
    "print(least_expensive_property)"
   ]
  }
 ],
 "metadata": {
  "kernelspec": {
   "display_name": "Python 3",
   "language": "python",
   "name": "python3"
  },
  "language_info": {
   "codemirror_mode": {
    "name": "ipython",
    "version": 3
   },
   "file_extension": ".py",
   "mimetype": "text/x-python",
   "name": "python",
   "nbconvert_exporter": "python",
   "pygments_lexer": "ipython3",
   "version": "3.12.2"
  }
 },
 "nbformat": 4,
 "nbformat_minor": 2
}
